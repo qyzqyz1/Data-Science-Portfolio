{
 "cells": [
  {
   "cell_type": "markdown",
   "metadata": {
    "colab_type": "text",
    "id": "Ti4jYk_NSJyu"
   },
   "source": [
    "# Convolutional Neural Networks"
   ]
  },
  {
   "cell_type": "markdown",
   "metadata": {
    "colab_type": "text",
    "id": "-UCXtW7lSJyz"
   },
   "source": [
    "This project expects a basic understanding of pytorch and convolutional networks.\n",
    "\n",
    "* `torch.nn` documentation http://pytorch.org/docs/master/nn.html\n",
    "* Convolution animations. Make sure to understand these animations so you can visualize stride, padding, etc. https://github.com/vdumoulin/conv_arithmetic/blob/master/README.md\n",
    "* If you want to look at something more complicated, check out the ResNet implementation in torchvision: https://github.com/pytorch/vision/blob/master/torchvision/models/resnet.py"
   ]
  },
  {
   "cell_type": "code",
   "execution_count": 1,
   "metadata": {
    "colab": {},
    "colab_type": "code",
    "id": "e1mAJyfbSJy0"
   },
   "outputs": [],
   "source": [
    "import torch\n",
    "import torch.nn.functional as F\n",
    "from torch import autograd, nn\n",
    "from torch.autograd import Variable\n",
    "import numpy as np\n",
    "import matplotlib.pyplot as plt\n",
    "from torchvision import transforms, datasets"
   ]
  },
  {
   "cell_type": "markdown",
   "metadata": {
    "colab_type": "text",
    "id": "yLzWNO7nSJy6"
   },
   "source": [
    "## Data Format"
   ]
  },
  {
   "cell_type": "markdown",
   "metadata": {
    "colab_type": "text",
    "id": "bGU4BfdVSJy7"
   },
   "source": [
    "Dimension ordering is very important. For pytorch:\n",
    "\n",
    "* 2D data like images should be `(samples, channels, height, width)` sometimes called \"NCHW\" or \"channels first\"\n",
    "* 1D data like stock prices should be `(samples, channels, time)`\n",
    "* 2D filters should be `(out_channels, in_channels, height, width)`\n",
    "* 1D filters should be `(out_channels, in_channels, time)`\n",
    "\n",
    "Different frameworks (e.g., TensorFlow) use different dimension orderings so be very careful, especially when implementing code or reading data targeted at a different framework.\n",
    "\n",
    "Note most image data is RGB but some is BGR  or ARGB."
   ]
  },
  {
   "cell_type": "code",
   "execution_count": 2,
   "metadata": {
    "colab": {
     "base_uri": "https://localhost:8080/",
     "height": 51
    },
    "colab_type": "code",
    "id": "XrbQgOImSJy9",
    "outputId": "c2d12677-4568-4d59-9093-ea7d4c1fc271"
   },
   "outputs": [
    {
     "name": "stdout",
     "output_type": "stream",
     "text": [
      "torch.Size([1, 3, 32, 32])\n",
      "torch.Size([1, 40, 100])\n"
     ]
    }
   ],
   "source": [
    "input_image = autograd.Variable(torch.randn(1,3,32,32)) # single 32x32 RGB image\n",
    "print(input_image.size())\n",
    "input_signal = autograd.Variable(torch.randn(1,40,100)) # 40 dimensional signal for 100 timesteps\n",
    "print(input_signal.size())"
   ]
  },
  {
   "cell_type": "markdown",
   "metadata": {
    "colab_type": "text",
    "id": "QyckDsMTSJzD"
   },
   "source": [
    "## Convolutional Layers"
   ]
  },
  {
   "cell_type": "markdown",
   "metadata": {
    "colab_type": "text",
    "id": "uqknLcM6SJzE"
   },
   "source": [
    "The `torch.nn` module provides layers for CNNs. Use in the same way as other modules. Please refer to the documentation for details. Some of the most common layers you will use:\n",
    "\n",
    "* `torch.nn.Conv2d`\n",
    "* `torch.nn.ConvTranspose2d`\n",
    "* `torch.nn.MaxPool2d`\n",
    "* `torch.nn.AvgPool2d`\n"
   ]
  },
  {
   "cell_type": "code",
   "execution_count": 3,
   "metadata": {
    "colab": {},
    "colab_type": "code",
    "id": "OlHjCz4ESJzF"
   },
   "outputs": [],
   "source": [
    "# Create layers\n",
    "layer_c2d = torch.nn.Conv2d(in_channels=3, out_channels=20, kernel_size=5, stride=1, padding=2)\n",
    "layer_avg = torch.nn.AvgPool2d(kernel_size=32)"
   ]
  },
  {
   "cell_type": "code",
   "execution_count": 4,
   "metadata": {
    "colab": {
     "base_uri": "https://localhost:8080/",
     "height": 34
    },
    "colab_type": "code",
    "id": "h31ed0W8SJzI",
    "outputId": "e884fafe-1961-44c4-b7cc-9ae75acc3ced"
   },
   "outputs": [
    {
     "name": "stdout",
     "output_type": "stream",
     "text": [
      "torch.Size([1, 20, 32, 32])\n"
     ]
    }
   ],
   "source": [
    "# Use layers directly\n",
    "y = layer_c2d(input_image)\n",
    "print(y.size())"
   ]
  },
  {
   "cell_type": "code",
   "execution_count": 5,
   "metadata": {
    "colab": {
     "base_uri": "https://localhost:8080/",
     "height": 34
    },
    "colab_type": "code",
    "id": "MzgjDWpOSJzN",
    "outputId": "d1c4502d-a78f-44ca-8ba1-cf5c8769c522"
   },
   "outputs": [
    {
     "name": "stdout",
     "output_type": "stream",
     "text": [
      "torch.Size([1, 20, 1, 1])\n"
     ]
    }
   ],
   "source": [
    "# Add layers to model\n",
    "model = torch.nn.Sequential(layer_avg, layer_c2d)\n",
    "y = model(input_image)\n",
    "print(y.size())"
   ]
  },
  {
   "cell_type": "markdown",
   "metadata": {
    "colab_type": "text",
    "id": "gEQrgJWCSJzQ"
   },
   "source": [
    "## Convolutional Functions"
   ]
  },
  {
   "cell_type": "markdown",
   "metadata": {
    "colab_type": "text",
    "id": "61_tagEvSJzS"
   },
   "source": [
    "The `torch.nn.functional` module provides low-level functions. Depending on what kinds of models you are making, you may never have to use these functions, and use pre-made layers instead. When using the functional module, you need to instantiate parameters yourself.\n",
    "\n",
    "http://pytorch.org/docs/0.1.12/nn.html#torch-nn-functional\n",
    "\n",
    "Example low-level functions:\n",
    "\n",
    "* `F.max_pool2d`\n",
    "* `F.dropout2d`\n",
    "* `F.conv2d`"
   ]
  },
  {
   "cell_type": "code",
   "execution_count": 6,
   "metadata": {
    "colab": {
     "base_uri": "https://localhost:8080/",
     "height": 34
    },
    "colab_type": "code",
    "id": "qIdS3aSnSJzT",
    "outputId": "42ee0698-4646-4a55-dc35-4d547691e06d"
   },
   "outputs": [
    {
     "name": "stdout",
     "output_type": "stream",
     "text": [
      "torch.Size([1, 20, 32, 32])\n"
     ]
    }
   ],
   "source": [
    "filters = autograd.Variable(torch.randn(20,3,5,5)) # 5x5 filter from 3 dimensions to 20\n",
    "y=F.conv2d(input_image, filters, padding=2)\n",
    "print(y.size())"
   ]
  },
  {
   "cell_type": "code",
   "execution_count": 7,
   "metadata": {
    "colab": {
     "base_uri": "https://localhost:8080/",
     "height": 34
    },
    "colab_type": "code",
    "id": "WvmmSlvOSJzX",
    "outputId": "c2bd66d0-768d-4663-ba66-cae145d007a5"
   },
   "outputs": [
    {
     "name": "stdout",
     "output_type": "stream",
     "text": [
      "torch.Size([1, 256, 100])\n"
     ]
    }
   ],
   "source": [
    "filters = autograd.Variable(torch.randn(256,40,5)) # 5 wide filter from 40 dimensions to 256\n",
    "y=F.conv1d(input_signal, filters, padding=2)\n",
    "print(y.size())"
   ]
  },
  {
   "cell_type": "markdown",
   "metadata": {
    "colab_type": "text",
    "id": "yL-JqNGeSJzb"
   },
   "source": [
    "For example, if you generate the kernel using a neural network, you will have to use the functional module instead of a standard convolutional layer."
   ]
  },
  {
   "cell_type": "markdown",
   "metadata": {
    "colab_type": "text",
    "id": "KeuXp35SSJzc"
   },
   "source": [
    "## Padding"
   ]
  },
  {
   "cell_type": "markdown",
   "metadata": {
    "colab_type": "text",
    "id": "nVe9SsxrSJzd"
   },
   "source": [
    "Simple 0-padding can be accomplished using the `padding` keyword argument of many functions. Normally, you will be using the same vertical and horizontal padding but you can also pass a tuple `(H,W)`. Padding is applied symmetrically."
   ]
  },
  {
   "cell_type": "code",
   "execution_count": 8,
   "metadata": {
    "colab": {
     "base_uri": "https://localhost:8080/",
     "height": 102
    },
    "colab_type": "code",
    "id": "WrhsnzpBSJze",
    "outputId": "70c9589c-1d4f-4f37-db19-7a42be64e45d"
   },
   "outputs": [
    {
     "name": "stdout",
     "output_type": "stream",
     "text": [
      "torch.Size([1, 20, 26, 26])\n",
      "torch.Size([1, 20, 28, 28])\n",
      "torch.Size([1, 20, 30, 30])\n",
      "torch.Size([1, 20, 32, 32])\n",
      "torch.Size([1, 20, 26, 32])\n"
     ]
    }
   ],
   "source": [
    "inputs = autograd.Variable(torch.randn(1,3,32,32)) # single 32x32 RGB image\n",
    "print(torch.nn.Conv2d(in_channels=3, out_channels=20, kernel_size=7, padding=0)(inputs).size())\n",
    "print(torch.nn.Conv2d(in_channels=3, out_channels=20, kernel_size=7, padding=1)(inputs).size())\n",
    "print(torch.nn.Conv2d(in_channels=3, out_channels=20, kernel_size=7, padding=2)(inputs).size())\n",
    "print(torch.nn.Conv2d(in_channels=3, out_channels=20, kernel_size=7, padding=3)(inputs).size())\n",
    "print(torch.nn.Conv2d(in_channels=3, out_channels=20, kernel_size=7, padding=(0,3))(inputs).size())"
   ]
  },
  {
   "cell_type": "markdown",
   "metadata": {
    "colab_type": "text",
    "id": "1XYSLFDcSJzj"
   },
   "source": [
    "For more complicated padding, use a padding layer before your convolution.\n",
    "\n",
    "* Single int: apply to all sides\n",
    "* tuple (H,W): apply H to top and bottom, W to left and right\n",
    "* tuple (left, right, top, bottom)"
   ]
  },
  {
   "cell_type": "code",
   "execution_count": 9,
   "metadata": {
    "colab": {
     "base_uri": "https://localhost:8080/",
     "height": 34
    },
    "colab_type": "code",
    "id": "GaC-D7k-SJzm",
    "outputId": "5bed12ab-7240-46d6-a585-ee8777887a26"
   },
   "outputs": [
    {
     "name": "stdout",
     "output_type": "stream",
     "text": [
      "torch.Size([1, 20, 32, 32])\n"
     ]
    }
   ],
   "source": [
    "inputs = autograd.Variable(torch.randn(1,3,32,32)) # single 32x32 RGB image\n",
    "y = torch.nn.Conv2d(3, 20, 7)(torch.nn.ReplicationPad2d(3)(inputs))\n",
    "print(y.size())"
   ]
  },
  {
   "cell_type": "markdown",
   "metadata": {
    "colab_type": "text",
    "id": "mkJlTfFUSJzr"
   },
   "source": [
    "Common padding layers:\n",
    "\n",
    "* torch.nn.ReplicationPad2d\n",
    "* torch.nn.ReflectionPad2d\n",
    "* torch.nn.ZeroPad2d\n",
    "* torch.nn.ConstantPad2d"
   ]
  },
  {
   "cell_type": "markdown",
   "metadata": {
    "colab_type": "text",
    "id": "IgZFMlwUSJzs"
   },
   "source": [
    "## Normalization and Dropout"
   ]
  },
  {
   "cell_type": "markdown",
   "metadata": {
    "colab_type": "text",
    "id": "OQj0quvGSJzt"
   },
   "source": [
    "Don't forget BatchNorm2d and Dropout2d if you want to improve performance!"
   ]
  },
  {
   "cell_type": "code",
   "execution_count": 10,
   "metadata": {
    "colab": {
     "base_uri": "https://localhost:8080/",
     "height": 34
    },
    "colab_type": "code",
    "id": "8qbNZ8IESJzu",
    "outputId": "8403c636-3cab-48c1-d2a7-a4173967847e"
   },
   "outputs": [
    {
     "name": "stdout",
     "output_type": "stream",
     "text": [
      "torch.Size([1, 20, 32, 32])\n"
     ]
    }
   ],
   "source": [
    "h = nn.Conv2d(3, 20, 5, padding=2)(input_image)\n",
    "h = nn.BatchNorm2d(20)(h)\n",
    "h = F.relu(h)\n",
    "h = nn.Dropout2d(0.5)(h)\n",
    "print(h.size())"
   ]
  },
  {
   "cell_type": "markdown",
   "metadata": {
    "colab_type": "text",
    "id": "8Bz0fY56SJzy"
   },
   "source": [
    "## Downsampling"
   ]
  },
  {
   "cell_type": "markdown",
   "metadata": {
    "colab_type": "text",
    "id": "HGFRuWwXSJz0"
   },
   "source": [
    "You can downsample using pooling operations or strided convolutions."
   ]
  },
  {
   "cell_type": "code",
   "execution_count": 11,
   "metadata": {
    "colab": {
     "base_uri": "https://localhost:8080/",
     "height": 51
    },
    "colab_type": "code",
    "id": "2P1zlkDASJz1",
    "outputId": "80abe059-2bab-4424-906d-43a51a7c776f"
   },
   "outputs": [
    {
     "name": "stdout",
     "output_type": "stream",
     "text": [
      "torch.Size([1, 3, 16, 16])\n",
      "torch.Size([1, 3, 16, 16])\n"
     ]
    }
   ],
   "source": [
    "# Simple pooling operations\n",
    "print(nn.MaxPool2d(2)(input_image).size())\n",
    "print(nn.AvgPool2d(2)(input_image).size())"
   ]
  },
  {
   "cell_type": "code",
   "execution_count": 12,
   "metadata": {
    "colab": {
     "base_uri": "https://localhost:8080/",
     "height": 34
    },
    "colab_type": "code",
    "id": "1rDjUtIySJz7",
    "outputId": "58aa5032-1dc3-421d-b531-f67c9c8265fa"
   },
   "outputs": [
    {
     "name": "stdout",
     "output_type": "stream",
     "text": [
      "torch.Size([1, 20, 16, 16])\n"
     ]
    }
   ],
   "source": [
    "# Strided convolution\n",
    "layer = torch.nn.Conv2d(in_channels=3, out_channels=20, kernel_size=5, stride=2, padding=2)\n",
    "print(layer(input_image).size())"
   ]
  },
  {
   "cell_type": "markdown",
   "metadata": {
    "colab_type": "text",
    "id": "FjtNTA1WSJ0Q"
   },
   "source": [
    "## Reading Image Data"
   ]
  },
  {
   "cell_type": "markdown",
   "metadata": {
    "colab_type": "text",
    "id": "2aK0T3luSJ0R"
   },
   "source": [
    "For an example of reading an image dataset, see this tutorial: \n",
    "http://pytorch.org/tutorials/beginner/data_loading_tutorial.html\n",
    "\n",
    "You can load images from image files on-the-fly or perform preprocessing and load images from numpy files or formats. Pytorch provides utilities for reading images from a folder.\n",
    "\n",
    "**Warning** `skimage`, `Pillow` and `matplotlib` expect (H, W, channels). Make sure to transpose dimensions when going to and from pytorch."
   ]
  },
  {
   "cell_type": "code",
   "execution_count": 20,
   "metadata": {
    "colab": {},
    "colab_type": "code",
    "id": "10IXVmO4SJ0S",
    "scrolled": false
   },
   "outputs": [
    {
     "name": "stdout",
     "output_type": "stream",
     "text": [
      "(1932, 2576, 3)\n"
     ]
    },
    {
     "data": {
      "image/png": "[encoded data removed]",
      "text/plain": [
       "<Figure size 432x288 with 1 Axes>"
      ]
     },
     "metadata": {},
     "output_type": "display_data"
    }
   ],
   "source": [
    "# Read an image using skimage\n",
    "from skimage import io\n",
    "image = io.imread('C:/Users/yizhe/Desktop/Downloads/pic.JPG') # Add the path to your image\n",
    "print(image.shape)\n",
    "# Display an image\n",
    "plt.imshow(image)\n",
    "plt.show()"
   ]
  },
  {
   "cell_type": "markdown",
   "metadata": {
    "colab_type": "text",
    "id": "oHLVpCz7SJ0h"
   },
   "source": [
    "## Basic Pytorch Model"
   ]
  },
  {
   "cell_type": "code",
   "execution_count": 29,
   "metadata": {
    "colab": {},
    "colab_type": "code",
    "id": "sPiFAc16SJ0h"
   },
   "outputs": [
    {
     "name": "stdout",
     "output_type": "stream",
     "text": [
      "<__main__.BasicCNNModule object at 0x000001E18E03D470>\n"
     ]
    }
   ],
   "source": [
    "class ConvNet(nn.Module):\n",
    "        def __init__(self):\n",
    "            super(ConvNet, self).__init__()\n",
    "            self.layer1 = nn.Sequential(\n",
    "                nn.Conv2d(1, 32, kernel_size=5, stride=1, padding=2),\n",
    "                nn.ReLU(),\n",
    "                nn.MaxPool2d(kernel_size=2, stride=2))\n",
    "            self.layer2 = nn.Sequential(\n",
    "                nn.Conv2d(32, 64, kernel_size=5, stride=1, padding=2),\n",
    "                nn.ReLU(),\n",
    "                nn.MaxPool2d(kernel_size=2, stride=2))\n",
    "            self.drop_out = nn.Dropout()\n",
    "            self.fc1 = nn.Linear(7 * 7 * 64, 1000)\n",
    "            self.fc2 = nn.Linear(1000, 10)\n",
    "\n",
    "        def forward(self, x):\n",
    "            out = self.layer1(x)\n",
    "            out = self.layer2(out)\n",
    "            out = out.reshape(out.size(0), -1)\n",
    "            out = self.drop_out(out)\n",
    "            out = self.fc1(out)\n",
    "            out = self.fc2(out)\n",
    "            return out\n",
    "        \n",
    "        def backward(self, delta):\n",
    "            n = len(self.__layers)\n",
    "\n",
    "            for i in self.__layers[::-1]:\n",
    "                delta = self.__layers[i].backward(delta)\n",
    "\n",
    "            return\n",
    "        \n",
    "print(BasicCNNModule(100, 10))"
   ]
  },
  {
   "cell_type": "markdown",
   "metadata": {
    "colab_type": "text",
    "id": "5pZdgCeUIZYk"
   },
   "source": [
    "# Coding Task 1\n",
    "\n",
    "## Now write a piece of code to train the above designed CNN Model using MNIST images. You can modify the architecture of the network as well if you would like.\n",
    "\n",
    "\n",
    "MNIST Images: http://yann.lecun.com/exdb/mnist/\n"
   ]
  },
  {
   "cell_type": "code",
   "execution_count": 30,
   "metadata": {
    "colab": {},
    "colab_type": "code",
    "id": "WKu312hxOSdE"
   },
   "outputs": [],
   "source": [
    "from torchvision.datasets import MNIST\n",
    "\n",
    "num_epochs = 5\n",
    "num_classes = 10\n",
    "batch_size = 100\n",
    "learning_rate = 0.001\n",
    "\n",
    "# transforms to apply to the data\n",
    "trans = transforms.Compose([transforms.ToTensor(), transforms.Normalize((0.1307,), (0.3081,))])\n",
    "\n",
    "# MNIST dataset\n",
    "train_dataset = MNIST('./data', train=True, transform=trans, download=True)\n",
    "test_dataset = MNIST('./data', train=False, transform=trans)"
   ]
  },
  {
   "cell_type": "code",
   "execution_count": 31,
   "metadata": {},
   "outputs": [],
   "source": [
    "from torch.utils.data import DataLoader\n",
    "train_loader = DataLoader(dataset=train_dataset, batch_size=batch_size, shuffle=True)\n",
    "test_loader = DataLoader(dataset=test_dataset, batch_size=batch_size, shuffle=False)"
   ]
  },
  {
   "cell_type": "code",
   "execution_count": 32,
   "metadata": {},
   "outputs": [],
   "source": [
    "model = ConvNet()\n",
    "\n",
    "# Loss and optimizer\n",
    "criterion = nn.CrossEntropyLoss()\n",
    "optimizer = torch.optim.Adam(model.parameters(), lr=learning_rate)"
   ]
  },
  {
   "cell_type": "code",
   "execution_count": 33,
   "metadata": {},
   "outputs": [
    {
     "name": "stdout",
     "output_type": "stream",
     "text": [
      "Epoch [1/5], Step [100/600], Loss: 0.1268, Accuracy: 97.00%\n",
      "Epoch [1/5], Step [200/600], Loss: 0.1026, Accuracy: 96.00%\n",
      "Epoch [1/5], Step [300/600], Loss: 0.1177, Accuracy: 97.00%\n",
      "Epoch [1/5], Step [400/600], Loss: 0.0738, Accuracy: 98.00%\n",
      "Epoch [1/5], Step [500/600], Loss: 0.0602, Accuracy: 98.00%\n",
      "Epoch [1/5], Step [600/600], Loss: 0.0774, Accuracy: 97.00%\n",
      "Epoch [2/5], Step [100/600], Loss: 0.0516, Accuracy: 98.00%\n",
      "Epoch [2/5], Step [200/600], Loss: 0.0275, Accuracy: 99.00%\n",
      "Epoch [2/5], Step [300/600], Loss: 0.0146, Accuracy: 99.00%\n",
      "Epoch [2/5], Step [400/600], Loss: 0.0536, Accuracy: 98.00%\n",
      "Epoch [2/5], Step [500/600], Loss: 0.0478, Accuracy: 99.00%\n",
      "Epoch [2/5], Step [600/600], Loss: 0.0335, Accuracy: 98.00%\n",
      "Epoch [3/5], Step [100/600], Loss: 0.0194, Accuracy: 100.00%\n",
      "Epoch [3/5], Step [200/600], Loss: 0.0601, Accuracy: 98.00%\n",
      "Epoch [3/5], Step [300/600], Loss: 0.0583, Accuracy: 99.00%\n",
      "Epoch [3/5], Step [400/600], Loss: 0.0647, Accuracy: 98.00%\n",
      "Epoch [3/5], Step [500/600], Loss: 0.0080, Accuracy: 100.00%\n",
      "Epoch [3/5], Step [600/600], Loss: 0.0212, Accuracy: 99.00%\n",
      "Epoch [4/5], Step [100/600], Loss: 0.0475, Accuracy: 99.00%\n",
      "Epoch [4/5], Step [200/600], Loss: 0.0205, Accuracy: 99.00%\n",
      "Epoch [4/5], Step [300/600], Loss: 0.0050, Accuracy: 100.00%\n",
      "Epoch [4/5], Step [400/600], Loss: 0.0080, Accuracy: 100.00%\n",
      "Epoch [4/5], Step [500/600], Loss: 0.0981, Accuracy: 95.00%\n",
      "Epoch [4/5], Step [600/600], Loss: 0.0148, Accuracy: 100.00%\n",
      "Epoch [5/5], Step [100/600], Loss: 0.0048, Accuracy: 100.00%\n",
      "Epoch [5/5], Step [200/600], Loss: 0.1156, Accuracy: 98.00%\n",
      "Epoch [5/5], Step [300/600], Loss: 0.0852, Accuracy: 98.00%\n",
      "Epoch [5/5], Step [400/600], Loss: 0.0948, Accuracy: 97.00%\n",
      "Epoch [5/5], Step [500/600], Loss: 0.0136, Accuracy: 100.00%\n",
      "Epoch [5/5], Step [600/600], Loss: 0.0347, Accuracy: 98.00%\n"
     ]
    }
   ],
   "source": [
    "# Train the model\n",
    "total_step = len(train_loader)\n",
    "loss_list = []\n",
    "acc_list = []\n",
    "for epoch in range(num_epochs):\n",
    "    for i, (images, labels) in enumerate(train_loader):\n",
    "        # Run the forward pass\n",
    "        outputs = model(images)\n",
    "        loss = criterion(outputs, labels)\n",
    "        loss_list.append(loss.item())\n",
    "\n",
    "        # Backprop and perform Adam optimisation\n",
    "        optimizer.zero_grad()\n",
    "        loss.backward()\n",
    "        optimizer.step()\n",
    "\n",
    "        # Track the accuracy\n",
    "        total = labels.size(0)\n",
    "        _, predicted = torch.max(outputs.data, 1)\n",
    "        correct = (predicted == labels).sum().item()\n",
    "        acc_list.append(correct / total)\n",
    "\n",
    "        if (i + 1) % 100 == 0:\n",
    "            print('Epoch [{}/{}], Step [{}/{}], Loss: {:.4f}, Accuracy: {:.2f}%'\n",
    "                  .format(epoch + 1, num_epochs, i + 1, total_step, loss.item(),\n",
    "                          (correct / total) * 100))"
   ]
  },
  {
   "cell_type": "code",
   "execution_count": 35,
   "metadata": {},
   "outputs": [
    {
     "name": "stdout",
     "output_type": "stream",
     "text": [
      "Test Accuracy of the model on the 10000 test images: 99.05000000000001 %\n"
     ]
    }
   ],
   "source": [
    "# Test the model\n",
    "model.eval()\n",
    "with torch.no_grad():\n",
    "    correct = 0\n",
    "    total = 0\n",
    "    for images, labels in test_loader:\n",
    "        outputs = model(images)\n",
    "        _, predicted = torch.max(outputs.data, 1)\n",
    "        total += labels.size(0)\n",
    "        correct += (predicted == labels).sum().item()\n",
    "\n",
    "    print('Test Accuracy of the model on the 10000 test images: {} %'.format((correct / total) * 100))"
   ]
  },
  {
   "cell_type": "markdown",
   "metadata": {
    "colab_type": "text",
    "id": "XR_nPjc5JZYd"
   },
   "source": [
    "# Coding Task 2 \n",
    "\n",
    "## Please see below the section on Pre-Trained Models and how they can be used as feature extractors. You should now use any pre-trained model such as the one shown below and extract features of an image of your choice and develop a simple  classifer using softmax, MLP or any other one you may want. Keep in mind the input image size before training your model.\n",
    "\n",
    "\n",
    "Review this blog post where VGGFace is used for face detection http://www.robots.ox.ac.uk/~albanie/pytorch-models.html\n",
    "\n",
    "Use this extract features of facial images. You may use any open source image from the internet to demonstrate that it works. "
   ]
  },
  {
   "cell_type": "code",
   "execution_count": 215,
   "metadata": {},
   "outputs": [],
   "source": [
    "from torch.utils.data.dataloader import DataLoader\n",
    "from torchvision import transforms, datasets"
   ]
  },
  {
   "cell_type": "code",
   "execution_count": 216,
   "metadata": {},
   "outputs": [],
   "source": [
    "train_transform = transforms.Compose([\n",
    "    transforms.RandomRotation(30),\n",
    "    transforms.RandomHorizontalFlip(p=0.5),\n",
    "    transforms.CenterCrop(10),\n",
    "    transforms.ToTensor(),\n",
    "    transforms.Normalize([0.5,0.5,0.5],[0.5,0.5,0.5]),\n",
    "])"
   ]
  },
  {
   "cell_type": "code",
   "execution_count": 217,
   "metadata": {},
   "outputs": [],
   "source": [
    "train_data = datasets.ImageFolder(\"C:/Users/yizhe/Desktop/data-586-lab-2-qyzqyz1/data/train\", transform=train_transform)\n",
    "validation_data = datasets.ImageFolder(\"C:/Users/yizhe/Desktop/data-586-lab-2-qyzqyz1/data/validation\", transform=train_transform)\n",
    "test_data = datasets.ImageFolder(\"C:/Users/yizhe/Desktop/data-586-lab-2-qyzqyz1/data/test\", transform=train_transform)"
   ]
  },
  {
   "cell_type": "code",
   "execution_count": 218,
   "metadata": {},
   "outputs": [],
   "source": [
    "trainLoader = DataLoader(train_data, batch_size=30, shuffle=True)\n",
    "validLoader = DataLoader(validation_data, batch_size=30, shuffle=False)\n",
    "testLoader = DataLoader(test_data, batch_size=30, shuffle=False)"
   ]
  },
  {
   "cell_type": "markdown",
   "metadata": {
    "colab_type": "text",
    "id": "mdWM8AwFSJ0p"
   },
   "source": [
    "## Pre-trained models\n",
    "\n",
    "Training CNN models from scratch requires a lot of data. Hence we often use pre-trained models to alleviate this problem. For CNNs, pre-trained models are readily available for famos architectures such as VGG, ResNet and Inception Net.\n",
    "\n",
    "When you set `pretrained=True`, torchvision automatically downloads the model for you, and initializes weights from there. If this does not work, run the following:\n",
    "```\n",
    ">> wget https://download.pytorch.org/models/vgg16-397923af.pth\n",
    ">> mv vgg16-397923af.pth ~/.torch/models/vgg16-397923af.pth\n",
    "```\n",
    "\n",
    "You can find all other pretrained models included at https://pytorch.org/docs/stable/torchvision/models.html."
   ]
  },
  {
   "cell_type": "code",
   "execution_count": 219,
   "metadata": {},
   "outputs": [],
   "source": [
    "#import models from torchvision\n",
    "from torchvision import models\n",
    "#build the pretrained model (vgg16 in this case)\n",
    "model = models.vgg16(pretrained = True)"
   ]
  },
  {
   "cell_type": "code",
   "execution_count": 220,
   "metadata": {},
   "outputs": [],
   "source": [
    "#import OrderedDicted to corectly align the network layers\n",
    "#import nn you use activation and dropout features\n",
    "from collections import OrderedDict\n",
    "from torch import nn\n",
    "#create classifier\n",
    "classifier=nn.Sequential(OrderedDict([('fc1', nn.Linear(25088, 512)),\n",
    "                           ('relu', nn.ReLU()), \n",
    "                           ('dropout', nn.Dropout(p=0.337)),\n",
    "                           ('fc2', nn.Linear(512, 102)),\n",
    "                           ('output', nn.LogSoftmax(dim=1))\n",
    "                             ]))\n",
    "#replace the model's classifier with this new classifier \n",
    "#transfer learning connection applied here\n",
    "model.classifier = classifier"
   ]
  },
  {
   "cell_type": "code",
   "execution_count": 221,
   "metadata": {},
   "outputs": [],
   "source": [
    "#import optimizer for \n",
    "from torch import optim\n",
    "#define criteria and optimizer\n",
    "criteria = nn.CrossEntropyLoss()\n",
    "optimizer = optim.SGD(model.parameters(), lr = 0.005, momentum = 0.5)"
   ]
  },
  {
   "cell_type": "code",
   "execution_count": 222,
   "metadata": {},
   "outputs": [],
   "source": [
    "#define training function\n",
    "def train (model, loader, criterion, gpu):\n",
    "    model.train()\n",
    "    current_loss = 0\n",
    "    current_correct = 0\n",
    "    for train, y_train in iter(loader):\n",
    "        if gpu:\n",
    "            train, y_train = train.to('cuda'), y_train.to('cuda')\n",
    "        optimizer.zero_grad()\n",
    "        output = model.forward(train)\n",
    "        _, preds = torch.max(output,1)\n",
    "        loss = criterion(output, y_train)\n",
    "        loss.backward()\n",
    "        optimizer.step()\n",
    "        current_loss += loss.item()*train.size(0)\n",
    "        current_correct += torch.sum(preds == y_train.data)\n",
    "    epoch_loss = current_loss / len(trainLoader.dataset)\n",
    "    epoch_acc = current_correct.double() / len(trainLoader.dataset)\n",
    "        \n",
    "    return epoch_loss, epoch_acc"
   ]
  },
  {
   "cell_type": "code",
   "execution_count": 223,
   "metadata": {},
   "outputs": [],
   "source": [
    "#define validation function\n",
    "def validation (model, loader, criterion, gpu):\n",
    "    model.eval()\n",
    "    valid_loss = 0\n",
    "    valid_correct = 0\n",
    "    for valid, y_valid in iter(loader):\n",
    "        if gpu:\n",
    "            valid, y_valid = valid.to('cuda'), y_valid.to('cuda')\n",
    "        output = model.forward(valid)\n",
    "        valid_loss += criterion(output, y_valid).item()*valid.size(0)\n",
    "        equal = (output.max(dim=1)[1] == y_valid.data)\n",
    "        valid_correct += torch.sum(equal)#type(torch.FloatTensor)\n",
    "    \n",
    "    epoch_loss = valid_loss / len(validLoader.dataset)\n",
    "    epoch_acc = valid_correct.double() / len(validLoader.dataset)\n",
    "    \n",
    "    return epoch_loss, epoch_acc"
   ]
  },
  {
   "cell_type": "code",
   "execution_count": 224,
   "metadata": {},
   "outputs": [
    {
     "data": {
      "text/plain": [
       "False"
      ]
     },
     "execution_count": 224,
     "metadata": {},
     "output_type": "execute_result"
    }
   ],
   "source": [
    "cuda = torch.cuda.is_available()\n",
    "cuda"
   ]
  },
  {
   "cell_type": "code",
   "execution_count": 225,
   "metadata": {},
   "outputs": [
    {
     "name": "stdout",
     "output_type": "stream",
     "text": [
      "1\n",
      "Epoch: 1 Train Loss : 4.7586  Train Accuracy: 0.0000\n",
      "Epoch: 1 Validation Loss : 3.5347  Validation Accuracy 0.6667\n",
      "2\n",
      "Epoch: 2 Train Loss : 3.5181  Train Accuracy: 0.6667\n",
      "Epoch: 2 Validation Loss : 1.4828  Validation Accuracy 0.6667\n",
      "3\n",
      "Epoch: 3 Train Loss : 1.3595  Train Accuracy: 1.0000\n",
      "Epoch: 3 Validation Loss : 0.2579  Validation Accuracy 1.0000\n",
      "4\n",
      "Epoch: 4 Train Loss : 0.5886  Train Accuracy: 0.6667\n",
      "Epoch: 4 Validation Loss : 2.3769  Validation Accuracy 0.6667\n",
      "5\n",
      "Epoch: 5 Train Loss : 2.1771  Train Accuracy: 0.6667\n",
      "Epoch: 5 Validation Loss : 6.4678  Validation Accuracy 0.3333\n",
      "6\n",
      "Epoch: 6 Train Loss : 7.1887  Train Accuracy: 0.3333\n",
      "Epoch: 6 Validation Loss : 2.1545  Validation Accuracy 0.6667\n",
      "7\n",
      "Epoch: 7 Train Loss : 2.1512  Train Accuracy: 0.6667\n",
      "Epoch: 7 Validation Loss : 1.8046  Validation Accuracy 0.6667\n",
      "8\n",
      "Epoch: 8 Train Loss : 1.5618  Train Accuracy: 0.6667\n",
      "Epoch: 8 Validation Loss : 1.1857  Validation Accuracy 0.6667\n",
      "9\n",
      "Epoch: 9 Train Loss : 1.3567  Train Accuracy: 0.6667\n",
      "Epoch: 9 Validation Loss : 1.0110  Validation Accuracy 0.6667\n",
      "10\n",
      "Epoch: 10 Train Loss : 1.3070  Train Accuracy: 0.6667\n",
      "Epoch: 10 Validation Loss : 0.3526  Validation Accuracy 1.0000\n"
     ]
    }
   ],
   "source": [
    "#Initialize training params  \n",
    "#freeze gradient parameters in pretrained model\n",
    "for param in model.parameters():\n",
    "    param.require_grad = False\n",
    "#train and validate\n",
    "epochs = 10  \n",
    "epoch = 0\n",
    "\n",
    "    \n",
    "for e in range(epochs):\n",
    "    epoch +=1\n",
    "    print(epoch)\n",
    "    with torch.set_grad_enabled(True):\n",
    "        epoch_train_loss, epoch_train_acc = train(model,trainLoader, criteria, gpu=cuda)\n",
    "    print(\"Epoch: {} Train Loss : {:.4f}  Train Accuracy: {:.4f}\".format(epoch,epoch_train_loss,epoch_train_acc))\n",
    "    with torch.no_grad():\n",
    "        epoch_val_loss, epoch_val_acc = validation(model, validLoader, criteria, gpu=cuda)\n",
    "    print(\"Epoch: {} Validation Loss : {:.4f}  Validation Accuracy {:.4f}\".format(epoch,epoch_val_loss,epoch_val_acc))"
   ]
  },
  {
   "cell_type": "code",
   "execution_count": 226,
   "metadata": {},
   "outputs": [
    {
     "name": "stdout",
     "output_type": "stream",
     "text": [
      "Accuracy of network on test images is ... 100.0000....count: 1\n"
     ]
    }
   ],
   "source": [
    "# Testing the Modified Network\n",
    "\n",
    "model.eval()\n",
    "total = 0\n",
    "correct = 0 \n",
    "count = 0\n",
    "#iterating for each sample in the test dataset once\n",
    "for test, y_test in iter(testLoader):\n",
    "    test, y_test = test.to('cpu'), y_test.to('cpu')\n",
    "#Calculate the class probabilities (softmax) for img\n",
    "    with torch.no_grad():\n",
    "        output = model.forward(test)\n",
    "        ps = torch.exp(output)\n",
    "        _, predicted = torch.max(output.data,1)\n",
    "        total += y_test.size(0)\n",
    "        correct += (predicted == y_test).sum().item() \n",
    "        count += 1\n",
    "        print(\"Accuracy of network on test images is ... {:.4f}....count: {}\".format(100*correct/total,  count ))"
   ]
  },
  {
   "cell_type": "markdown",
   "metadata": {
    "colab_type": "text",
    "id": "GeoNBYIWSJ0u"
   },
   "source": [
    "## We can build a VGG feature extractor. These are often useful in downstream tasks, for example learning deep visual semantic embeddings (https://static.googleusercontent.com/media/research.google.com/en//pubs/archive/41473.pdf). This allows us to use features trained on large datasets like ImageNet, and use on tasks which have lesser data.\n",
    "\n",
    "## ``` vgg16.features ``` gives us convolutional features. Often, even taking all the layers until the last classification layer also suffices.\n"
   ]
  },
  {
   "cell_type": "code",
   "execution_count": 232,
   "metadata": {
    "colab": {},
    "colab_type": "code",
    "id": "8HzLOOCQSJ0v"
   },
   "outputs": [
    {
     "name": "stdout",
     "output_type": "stream",
     "text": [
      "torch.Size([1, 512, 7, 7])\n",
      "torch.Size([1, 25088])\n",
      "torch.Size([1, 4096])\n"
     ]
    }
   ],
   "source": [
    "vgg16_feature_extractor = vgg16.features\n",
    "# print('VGG feature extractor', vgg16_feature_extractor)\n",
    "print(vgg16_feature_extractor(Variable(torch.rand(1, 3, 224, 224))).size())\n",
    "print(vgg16_feature_extractor(Variable(torch.rand(1, 3, 224, 224))).view(1, -1).size()) # flatten conv features\n",
    "\n",
    "vgg16_4096 = models.vgg16(pretrained=True)\n",
    "new_classifier = nn.Sequential(*list(vgg16_4096.classifier.children())[:-1]) # remove just the last layer\n",
    "vgg16_4096.classifier = new_classifier\n",
    "print(vgg16_4096(Variable(torch.rand(1, 3, 224, 224))).size())"
   ]
  },
  {
   "cell_type": "code",
   "execution_count": 233,
   "metadata": {},
   "outputs": [],
   "source": [
    "#import optimizer for \n",
    "from torch import optim\n",
    "#define criteria and optimizer\n",
    "criteria = nn.CrossEntropyLoss()\n",
    "optimizer = optim.SGD(vgg16_4096.parameters(), lr = 0.005, momentum = 0.5)\n",
    "\n",
    "#define training function\n",
    "def train (model, loader, criterion, gpu):\n",
    "    model.train()\n",
    "    current_loss = 0\n",
    "    current_correct = 0\n",
    "    for train, y_train in iter(loader):\n",
    "        if gpu:\n",
    "            train, y_train = train.to('cuda'), y_train.to('cuda')\n",
    "        optimizer.zero_grad()\n",
    "        output = model.forward(train)\n",
    "        _, preds = torch.max(output,1)\n",
    "        loss = criterion(output, y_train)\n",
    "        loss.backward()\n",
    "        optimizer.step()\n",
    "        current_loss += loss.item()*train.size(0)\n",
    "        current_correct += torch.sum(preds == y_train.data)\n",
    "    epoch_loss = current_loss / len(trainLoader.dataset)\n",
    "    epoch_acc = current_correct.double() / len(trainLoader.dataset)\n",
    "        \n",
    "    return epoch_loss, epoch_acc\n",
    "\n",
    "#define validation function\n",
    "def validation (model, loader, criterion, gpu):\n",
    "    model.eval()\n",
    "    valid_loss = 0\n",
    "    valid_correct = 0\n",
    "    for valid, y_valid in iter(loader):\n",
    "        if gpu:\n",
    "            valid, y_valid = valid.to('cuda'), y_valid.to('cuda')\n",
    "        output = model.forward(valid)\n",
    "        valid_loss += criterion(output, y_valid).item()*valid.size(0)\n",
    "        equal = (output.max(dim=1)[1] == y_valid.data)\n",
    "        valid_correct += torch.sum(equal)#type(torch.FloatTensor)\n",
    "    \n",
    "    epoch_loss = valid_loss / len(validLoader.dataset)\n",
    "    epoch_acc = valid_correct.double() / len(validLoader.dataset)\n",
    "    \n",
    "    return epoch_loss, epoch_acc"
   ]
  },
  {
   "cell_type": "code",
   "execution_count": 234,
   "metadata": {},
   "outputs": [
    {
     "name": "stdout",
     "output_type": "stream",
     "text": [
      "1\n",
      "Epoch: 1 Train Loss : 14.7261  Train Accuracy: 0.0000\n",
      "Epoch: 1 Validation Loss : 0.3628  Validation Accuracy 1.0000\n",
      "2\n",
      "Epoch: 2 Train Loss : 8.6548  Train Accuracy: 0.0000\n",
      "Epoch: 2 Validation Loss : 0.4413  Validation Accuracy 1.0000\n",
      "3\n",
      "Epoch: 3 Train Loss : 8.4610  Train Accuracy: 0.0000\n",
      "Epoch: 3 Validation Loss : 0.4177  Validation Accuracy 1.0000\n",
      "4\n",
      "Epoch: 4 Train Loss : 8.3812  Train Accuracy: 0.0000\n",
      "Epoch: 4 Validation Loss : 0.4003  Validation Accuracy 1.0000\n",
      "5\n",
      "Epoch: 5 Train Loss : 8.3649  Train Accuracy: 0.0000\n",
      "Epoch: 5 Validation Loss : 0.4176  Validation Accuracy 1.0000\n",
      "6\n",
      "Epoch: 6 Train Loss : 8.2375  Train Accuracy: 0.0000\n",
      "Epoch: 6 Validation Loss : 0.3583  Validation Accuracy 1.0000\n",
      "7\n",
      "Epoch: 7 Train Loss : 8.3712  Train Accuracy: 0.0000\n",
      "Epoch: 7 Validation Loss : 0.3812  Validation Accuracy 1.0000\n",
      "8\n",
      "Epoch: 8 Train Loss : 8.4434  Train Accuracy: 0.0000\n",
      "Epoch: 8 Validation Loss : 0.3419  Validation Accuracy 1.0000\n",
      "9\n",
      "Epoch: 9 Train Loss : 7.0668  Train Accuracy: 0.3333\n",
      "Epoch: 9 Validation Loss : 0.3704  Validation Accuracy 1.0000\n",
      "10\n",
      "Epoch: 10 Train Loss : 8.4375  Train Accuracy: 0.0000\n",
      "Epoch: 10 Validation Loss : 0.3820  Validation Accuracy 1.0000\n"
     ]
    }
   ],
   "source": [
    "#Initialize training params  \n",
    "#freeze gradient parameters in pretrained model\n",
    "for param in vgg16_4096.parameters():\n",
    "    param.require_grad = False\n",
    "#train and validate\n",
    "epochs = 10  \n",
    "epoch = 0\n",
    "\n",
    "    \n",
    "for e in range(epochs):\n",
    "    epoch +=1\n",
    "    print(epoch)\n",
    "    with torch.set_grad_enabled(True):\n",
    "        epoch_train_loss, epoch_train_acc = train(vgg16_4096,trainLoader, criteria, gpu=cuda)\n",
    "    print(\"Epoch: {} Train Loss : {:.4f}  Train Accuracy: {:.4f}\".format(epoch,epoch_train_loss,epoch_train_acc))\n",
    "    with torch.no_grad():\n",
    "        epoch_val_loss, epoch_val_acc = validation(model, validLoader, criteria, gpu=cuda)\n",
    "    print(\"Epoch: {} Validation Loss : {:.4f}  Validation Accuracy {:.4f}\".format(epoch,epoch_val_loss,epoch_val_acc))"
   ]
  },
  {
   "cell_type": "code",
   "execution_count": 235,
   "metadata": {},
   "outputs": [
    {
     "name": "stdout",
     "output_type": "stream",
     "text": [
      "Accuracy of network on test images is ... 33.3333....count: 1\n"
     ]
    }
   ],
   "source": [
    "# Testing the Modified Network\n",
    "\n",
    "model.eval()\n",
    "total = 0\n",
    "correct = 0 \n",
    "count = 0\n",
    "#iterating for each sample in the test dataset once\n",
    "for test, y_test in iter(testLoader):\n",
    "    test, y_test = test.to('cpu'), y_test.to('cpu')\n",
    "#Calculate the class probabilities (softmax) for img\n",
    "    with torch.no_grad():\n",
    "        output = vgg16_4096.forward(test)\n",
    "        ps = torch.exp(output)\n",
    "        _, predicted = torch.max(output.data,1)\n",
    "        total += y_test.size(0)\n",
    "        correct += (predicted == y_test).sum().item() \n",
    "        count += 1\n",
    "        print(\"Accuracy of network on test images is ... {:.4f}....count: {}\".format(100*correct/total,  count ))"
   ]
  }
 ],
 "metadata": {
  "colab": {
   "name": "Lab 2_sol.ipynb",
   "provenance": [],
   "toc_visible": true,
   "version": "0.3.2"
  },
  "kernelspec": {
   "display_name": "Python 3",
   "language": "python",
   "name": "python3"
  },
  "language_info": {
   "codemirror_mode": {
    "name": "ipython",
    "version": 3
   },
   "file_extension": ".py",
   "mimetype": "text/x-python",
   "name": "python",
   "nbconvert_exporter": "python",
   "pygments_lexer": "ipython3",
   "version": "3.6.5"
  }
 },
 "nbformat": 4,
 "nbformat_minor": 1
}
