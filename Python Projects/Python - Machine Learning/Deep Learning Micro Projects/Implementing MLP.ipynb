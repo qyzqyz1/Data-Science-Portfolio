{
 "cells": [
  {
   "cell_type": "markdown",
   "metadata": {
    "colab_type": "text",
    "id": "XxnEs4_8ri94"
   },
   "source": [
    "# Implementing a MLP with Backpropagation\n",
    "\n",
    "---\n",
    "\n",
    "\n",
    "\n",
    "This lab will help you understand the concept of implementing a multi-layer perceptron using  backpropagation algorithm. You are free to use any ML library such as Tensorflow, PyTorch or any other. However, this lab is supported using PyTorch"
   ]
  },
  {
   "cell_type": "markdown",
   "metadata": {
    "colab_type": "text",
    "id": "8AiKD0CStUYo"
   },
   "source": [
    "Important Reference: To be able understand and code Deep Learning Models that are easy and ready for production one should seriously refer to the documentation and tutorial of [PyTorch](https://pytorch.org/tutorials/)"
   ]
  },
  {
   "cell_type": "markdown",
   "metadata": {
    "colab_type": "text",
    "id": "Pb5Zhq0apKB3"
   },
   "source": [
    "# MNIST Images - Our best friend!"
   ]
  },
  {
   "cell_type": "markdown",
   "metadata": {
    "colab_type": "text",
    "id": "8BG-L-x2pKB5"
   },
   "source": [
    "The MNIST dataset is a large database of handwritten digits that is commonly used for training various image processing systems. The database is also widely used for training and testing in the field of machine learning. \n",
    "\n",
    "It consists of 60,000 training images and 10,000 testing images.\n",
    "\n",
    "[MNIST Dataset](http://yann.lecun.com/exdb/mnist/)\n",
    "\n",
    "![alt text](https://cdn-images-1.medium.com/max/1200/1*9Mjoc_J0JR294YwHGXwCeg.jpeg)"
   ]
  },
  {
   "cell_type": "markdown",
   "metadata": {
    "colab_type": "text",
    "id": "Mk1eK0PtpKB6"
   },
   "source": [
    "## Necesary libraries"
   ]
  },
  {
   "cell_type": "code",
   "execution_count": 1,
   "metadata": {
    "colab": {},
    "colab_type": "code",
    "id": "AJnPBYxopKB8"
   },
   "outputs": [],
   "source": [
    "import numpy as np\n",
    "import torch\n",
    "import torch.nn as nn\n",
    "import torch.nn.functional as F\n",
    "import torch.utils.data.dataloader as dataloader\n",
    "import torch.optim as optim\n",
    "\n",
    "from torch.utils.data import TensorDataset\n",
    "from torchvision import transforms\n",
    "from torchvision.datasets import MNIST\n",
    "\n",
    "import matplotlib.pyplot as plt\n",
    "import time"
   ]
  },
  {
   "cell_type": "markdown",
   "metadata": {
    "colab_type": "text",
    "id": "myFS9eCUpKCA"
   },
   "source": [
    "## Download the MNIST Train and Test set\n",
    "Using the torch.utils.data DataLoader, we shuffle the data and set the batch size to be 256. It is very important for everyone to focus on how the dataloader works. Please refer to the documentation."
   ]
  },
  {
   "cell_type": "code",
   "execution_count": 2,
   "metadata": {
    "colab": {},
    "colab_type": "code",
    "id": "PA0FcMHPpKCC"
   },
   "outputs": [],
   "source": [
    "train = MNIST('./data', train=True, download=True, transform=transforms.ToTensor())\n",
    "\n",
    "test = MNIST('./data', train=False, download=True, transform=transforms.ToTensor())\n",
    "\n",
    "cuda = torch.cuda.is_available()\n",
    "\n",
    "\n",
    "dataloader_args = dict(shuffle=True, batch_size=256,num_workers=4, pin_memory=True) if cuda \\\n",
    "                        else dict(shuffle=True, batch_size=64)\n",
    "train_loader = dataloader.DataLoader(train, **dataloader_args) \n",
    "# Complete the piece of code to load the test data\n",
    "test_loader = dataloader.DataLoader(test, **dataloader_args)\n"
   ]
  },
  {
   "cell_type": "markdown",
   "metadata": {
    "colab_type": "text",
    "id": "oRXn_YW6pKCG"
   },
   "source": [
    "## Compute basic data statistics\n",
    "It is always important to know the shape of the data, as well as the min/max and mean/variance Print all the values. You may use the following functions in pytorch\n",
    "\n",
    "Numpy Shape (train.train_data.cpu/gpu.numpy().shape), Tensor Shape (train_data_size), min (torch.min), max (torch.max), mean (torch.mean), variance (torch.var), standard deviation (torch.std)"
   ]
  },
  {
   "cell_type": "code",
   "execution_count": 3,
   "metadata": {
    "colab": {},
    "colab_type": "code",
    "id": "QvoJUdCEpKCH"
   },
   "outputs": [
    {
     "name": "stderr",
     "output_type": "stream",
     "text": [
      "C:\\Users\\yizhe\\Anaconda3\\lib\\site-packages\\torchvision\\datasets\\mnist.py:53: UserWarning: train_data has been renamed data\n",
      "  warnings.warn(\"train_data has been renamed data\")\n"
     ]
    },
    {
     "name": "stdout",
     "output_type": "stream",
     "text": [
      "The Numpuy shape is:  (28, 60000, 28)\n",
      "The Tensor shape is:  torch.Size([28, 60000, 28])\n",
      "The min is:  tensor(0.)\n",
      "The max is:  tensor(1.)\n",
      "The mean is:  tensor(0.1306)\n",
      "The variance is:  tensor(0.0949)\n",
      "The standard deviation is:  tensor(0.3081)\n"
     ]
    }
   ],
   "source": [
    "train_data = train.train_data\n",
    "train_data = train.transform(train_data.numpy())\n",
    "\n",
    "print(\"The Numpuy shape is: \", train_data.cpu().numpy().shape)\n",
    "print(\"The Tensor shape is: \", train_data.size())\n",
    "print(\"The min is: \", torch.min(train_data))\n",
    "print(\"The max is: \", torch.max(train_data))\n",
    "print(\"The mean is: \", torch.mean(train_data))\n",
    "print(\"The variance is: \", torch.var(train_data))\n",
    "print(\"The standard deviation is: \", torch.std(train_data))"
   ]
  },
  {
   "cell_type": "markdown",
   "metadata": {
    "colab_type": "text",
    "id": "eQX6tSdgpKCL"
   },
   "source": [
    "## Visualize a few training samples\n",
    "Using the matplotlib.pyplot library, we can visualize our input data.\n"
   ]
  },
  {
   "cell_type": "code",
   "execution_count": 4,
   "metadata": {
    "colab": {},
    "colab_type": "code",
    "id": "d4jc9hRMpKCM"
   },
   "outputs": [
    {
     "name": "stderr",
     "output_type": "stream",
     "text": [
      "C:\\Users\\yizhe\\Anaconda3\\lib\\site-packages\\torchvision\\datasets\\mnist.py:53: UserWarning: train_data has been renamed data\n",
      "  warnings.warn(\"train_data has been renamed data\")\n"
     ]
    },
    {
     "data": {
      "text/plain": [
       "<matplotlib.image.AxesImage at 0x27a936e7fd0>"
      ]
     },
     "execution_count": 4,
     "metadata": {},
     "output_type": "execute_result"
    },
    {
     "data": {
      "image/png": "[encoded data removed]",
      "text/plain": [
       "<Figure size 432x288 with 1 Axes>"
      ]
     },
     "metadata": {},
     "output_type": "display_data"
    }
   ],
   "source": [
    "# Visualize a training instance with matplotlib\n",
    "plt.imshow(train.train_data.cpu().numpy()[0], cmap='gray')"
   ]
  },
  {
   "cell_type": "code",
   "execution_count": 5,
   "metadata": {
    "colab": {},
    "colab_type": "code",
    "id": "PK0YNQIvpKCQ"
   },
   "outputs": [
    {
     "name": "stderr",
     "output_type": "stream",
     "text": [
      "C:\\Users\\yizhe\\Anaconda3\\lib\\site-packages\\torchvision\\datasets\\mnist.py:53: UserWarning: train_data has been renamed data\n",
      "  warnings.warn(\"train_data has been renamed data\")\n"
     ]
    },
    {
     "data": {
      "text/plain": [
       "<matplotlib.image.AxesImage at 0x27a9377fa90>"
      ]
     },
     "execution_count": 5,
     "metadata": {},
     "output_type": "execute_result"
    },
    {
     "data": {
      "image/png": "[encoded data removed]",
      "text/plain": [
       "<Figure size 432x288 with 1 Axes>"
      ]
     },
     "metadata": {},
     "output_type": "display_data"
    }
   ],
   "source": [
    "plt.imshow(train.train_data.cpu().numpy()[1], cmap='gray')"
   ]
  },
  {
   "cell_type": "markdown",
   "metadata": {
    "colab_type": "text",
    "id": "8TN1YQ1HpKCT"
   },
   "source": [
    "## Defining a Neural Network Model \n",
    "\n",
    "Define your model using the torch.nn.Module class"
   ]
  },
  {
   "cell_type": "code",
   "execution_count": 6,
   "metadata": {
    "colab": {},
    "colab_type": "code",
    "id": "nufs_yUzpKCU"
   },
   "outputs": [],
   "source": [
    "# SIMPLE MODEL DEFINITION\n",
    "class Simple_MLP(nn.Module):\n",
    "    def __init__(self, size_list):\n",
    "        super(Simple_MLP, self).__init__()\n",
    "        layers = []\n",
    "        self.size_list = size_list\n",
    "        for i in range(len(size_list) - 2):\n",
    "            layers.append(nn.Linear(size_list[i],size_list[i+1]))\n",
    "            layers.append(nn.ReLU())\n",
    "        layers.append(nn.Linear(size_list[-2], size_list[-1]))\n",
    "        self.net = nn.Sequential(*layers)\n",
    "\n",
    "    def forward(self, x):\n",
    "        x = x.view(-1, self.size_list[0]) # Flatten the input\n",
    "        return self.net(x)\n",
    "\n"
   ]
  },
  {
   "cell_type": "markdown",
   "metadata": {
    "colab_type": "text",
    "id": "Aj-gUObVpKCY"
   },
   "source": [
    "## Create the model and define the Loss and Optimizer\n",
    "You create an instance of the Simple_MLP model by passing it a list of layer sizes. The input layer contains 28*28 = 784 neurons. You may define a single hidden layer of size 256, and  output will be the class probabilities for each of the 10 digits (0-9).\n",
    "\n",
    "How many neurons will be there in the output layer?\n",
    "\n",
    "This is a classification task, I recommend you use Cross Entropy Loss (It is your error function or divergence function). We define our criterion using the torch.nn.CrossEntropyLoss.\n",
    "\n",
    "In order to train our network, we use the torch.optim.SGD optimizer. You may use the optimizer **Adam**"
   ]
  },
  {
   "cell_type": "code",
   "execution_count": 7,
   "metadata": {},
   "outputs": [
    {
     "name": "stdout",
     "output_type": "stream",
     "text": [
      "Simple_MLP(\n",
      "  (net): Sequential(\n",
      "    (0): Linear(in_features=784, out_features=256, bias=True)\n",
      "    (1): ReLU()\n",
      "    (2): Linear(in_features=256, out_features=10, bias=True)\n",
      "  )\n",
      ")\n"
     ]
    }
   ],
   "source": [
    "# Please complete the code below Hint: Each comment is a line of code\n",
    "\n",
    "# Create an instance of Simple MLP model\n",
    "model = Simple_MLP([784,256,10])\n",
    "# Specify the divergence function to use\n",
    "criterion = torch.nn.CrossEntropyLoss()\n",
    "# Print the model\n",
    "print(model)\n",
    "# Choose an optimizer for the model parameters (ex. optimizer = optim.Adam(model.parameters()))\n",
    "optimizer = optim.Adam(model.parameters())\n",
    "# You can use GPUs if your machineh has cuda dev = torch.device(\"cuda\" if cuda else \"cpu\")\n",
    "device = torch.device(\"cpu\")"
   ]
  },
  {
   "cell_type": "markdown",
   "metadata": {
    "colab_type": "text",
    "id": "PBPet9qUpKCd"
   },
   "source": [
    "## Complete the function that will train the network for one epoch\n"
   ]
  },
  {
   "cell_type": "code",
   "execution_count": 8,
   "metadata": {
    "colab": {},
    "colab_type": "code",
    "id": "HTXnK1d5pKCe"
   },
   "outputs": [],
   "source": [
    "def train_epoch(model, optimizer, train_loader, criterion):\n",
    "    model.train()\n",
    "    model.to(device)\n",
    "\n",
    "    running_loss = 0.0\n",
    "    \n",
    "    start_time = time.time()\n",
    "    for batch_idx, (data, target) in enumerate(train_loader):   \n",
    "        optimizer.zero_grad()   \n",
    "        data = data.to(device)\n",
    "        target = target.long().to(device)\n",
    "\n",
    "        outputs = model(data)\n",
    "        loss = criterion(outputs, target)\n",
    "        running_loss += loss.item()\n",
    "\n",
    "        loss.backward()\n",
    "        optimizer.step()\n",
    "    \n",
    "    end_time = time.time()\n",
    "    \n",
    "    running_loss /= len(train_loader)\n",
    "    print('Training Loss: ', running_loss, 'Time: ',end_time - start_time, 's')\n",
    "    return running_loss"
   ]
  },
  {
   "cell_type": "markdown",
   "metadata": {
    "colab_type": "text",
    "id": "okoREH8SpKCg"
   },
   "source": [
    "## A function that will evaluate your network's performance on the test set"
   ]
  },
  {
   "cell_type": "code",
   "execution_count": 9,
   "metadata": {
    "colab": {},
    "colab_type": "code",
    "id": "qXXO_gjPpKCg"
   },
   "outputs": [],
   "source": [
    "def test_model(model, test_loader, criterion):\n",
    "    with torch.no_grad():\n",
    "        model.eval()\n",
    "        model.to(device)\n",
    "\n",
    "        running_loss = 0.0\n",
    "        total_predictions = 0.0\n",
    "        correct_predictions = 0.0\n",
    "\n",
    "        for batch_idx, (data, target) in enumerate(test_loader):   \n",
    "            data = data.to(device)\n",
    "            target = target.long().to(device)\n",
    "\n",
    "            outputs = model(data)\n",
    "\n",
    "            _, predicted = torch.max(outputs.data, 1)\n",
    "            total_predictions += target.size(0)\n",
    "            correct_predictions += (predicted == target).sum().item()\n",
    "\n",
    "            loss = criterion(outputs, target).detach()\n",
    "            running_loss += loss.item()\n",
    "\n",
    "\n",
    "        running_loss /= len(test_loader)\n",
    "        acc = (correct_predictions/total_predictions)*100.0\n",
    "        print('Testing Loss: ', running_loss)\n",
    "        print('Testing Accuracy: ', acc, '%')\n",
    "        return running_loss, acc\n"
   ]
  },
  {
   "cell_type": "markdown",
   "metadata": {
    "colab_type": "text",
    "id": "YF15pFtwpKCj"
   },
   "source": [
    "## Train the model for N epochs\n",
    "Call your train and test functions functions in a loop, while keeping track of the **losses and accuracy**.  You may write the code for 10 epochs. "
   ]
  },
  {
   "cell_type": "code",
   "execution_count": 10,
   "metadata": {
    "colab": {},
    "colab_type": "code",
    "id": "y6pyjuMmpKCk"
   },
   "outputs": [
    {
     "name": "stdout",
     "output_type": "stream",
     "text": [
      "Epoch:  1\n",
      "Training Loss:  0.30114543208403627 Time:  10.684424877166748 s\n",
      "Testing Loss:  0.16558020576170296\n",
      "Testing Accuracy:  95.27 %\n",
      "\n",
      "\n",
      "Epoch:  2\n",
      "Training Loss:  0.12685322934296975 Time:  10.465675830841064 s\n",
      "Testing Loss:  0.10938447607076092\n",
      "Testing Accuracy:  96.88 %\n",
      "\n",
      "\n",
      "Epoch:  3\n",
      "Training Loss:  0.08380208300875384 Time:  10.59735655784607 s\n",
      "Testing Loss:  0.08650226173269901\n",
      "Testing Accuracy:  97.35000000000001 %\n",
      "\n",
      "\n",
      "Epoch:  4\n",
      "Training Loss:  0.060337858690596276 Time:  10.839963436126709 s\n",
      "Testing Loss:  0.07352673655055511\n",
      "Testing Accuracy:  97.77 %\n",
      "\n",
      "\n",
      "Epoch:  5\n",
      "Training Loss:  0.045850471286639286 Time:  10.750466346740723 s\n",
      "Testing Loss:  0.07649570537410724\n",
      "Testing Accuracy:  97.65 %\n",
      "\n",
      "\n",
      "Epoch:  6\n",
      "Training Loss:  0.03483333833305153 Time:  10.744397163391113 s\n",
      "Testing Loss:  0.06891456488401267\n",
      "Testing Accuracy:  97.91 %\n",
      "\n",
      "\n",
      "Epoch:  7\n",
      "Training Loss:  0.027320709310348894 Time:  11.646376609802246 s\n",
      "Testing Loss:  0.07399808414944797\n",
      "Testing Accuracy:  97.91 %\n",
      "\n",
      "\n",
      "Epoch:  8\n",
      "Training Loss:  0.021008589023998235 Time:  11.969322204589844 s\n",
      "Testing Loss:  0.06803034766796667\n",
      "Testing Accuracy:  98.11999999999999 %\n",
      "\n",
      "\n",
      "Epoch:  9\n",
      "Training Loss:  0.016213400700469133 Time:  11.907980918884277 s\n",
      "Testing Loss:  0.06900449912508677\n",
      "Testing Accuracy:  98.03 %\n",
      "\n",
      "\n",
      "Epoch:  10\n",
      "Training Loss:  0.013573616651246257 Time:  10.954360246658325 s\n",
      "Testing Loss:  0.07532773722722462\n",
      "Testing Accuracy:  98.1 %\n",
      "\n",
      "\n"
     ]
    }
   ],
   "source": [
    "# Write your piece of code to run train and test the network for 10 epochs.  \n",
    "n_epochs = 10\n",
    "training_list = []\n",
    "testing_list = []\n",
    "for i in range(n_epochs):\n",
    "    print(\"Epoch: \", i+1)\n",
    "    training_list.append(train_epoch(model, optimizer, train_loader, criterion))\n",
    "    testing_list.append(test_model(model, test_loader, criterion))\n",
    "    print('\\n')\n",
    "    i += 1"
   ]
  },
  {
   "cell_type": "markdown",
   "metadata": {
    "colab_type": "text",
    "id": "SjeexQLTpKCo"
   },
   "source": [
    "## Visualize Training Data. \n",
    "\n",
    "Draw a graph for Training Loss percentage with respect to number of epochs."
   ]
  },
  {
   "cell_type": "code",
   "execution_count": 21,
   "metadata": {
    "colab": {},
    "colab_type": "code",
    "id": "OEegIduppKCs"
   },
   "outputs": [
    {
     "data": {
      "text/plain": [
       "Text(0,0.5,'Percentage')"
      ]
     },
     "execution_count": 21,
     "metadata": {},
     "output_type": "execute_result"
    },
    {
     "data": {
      "image/png": "[encoded data removed]",
      "text/plain": [
       "<Figure size 432x288 with 1 Axes>"
      ]
     },
     "metadata": {},
     "output_type": "display_data"
    }
   ],
   "source": [
    "import matplotlib.pyplot as plt\n",
    "# Insert your code here\n",
    "training_loss = [x*100 for x in training_list]\n",
    "epoches = list(range(1,11))\n",
    "plt.scatter(epoches, training_loss)\n",
    "plt.xlabel(\"Num of Epoches\")\n",
    "plt.ylabel(\"Percentage\")"
   ]
  },
  {
   "cell_type": "markdown",
   "metadata": {
    "colab_type": "text",
    "id": "t2bbqnZcaOZt"
   },
   "source": [
    "Draw a graph for Testing Loss percentage with respect to number of epochs. "
   ]
  },
  {
   "cell_type": "code",
   "execution_count": 20,
   "metadata": {
    "colab": {},
    "colab_type": "code",
    "id": "sDEj0lumpKCv",
    "scrolled": true
   },
   "outputs": [
    {
     "data": {
      "text/plain": [
       "Text(0,0.5,'Percentage')"
      ]
     },
     "execution_count": 20,
     "metadata": {},
     "output_type": "execute_result"
    },
    {
     "data": {
      "image/png": "[encoded data removed]",
      "text/plain": [
       "<Figure size 432x288 with 1 Axes>"
      ]
     },
     "metadata": {},
     "output_type": "display_data"
    }
   ],
   "source": [
    "# Insert your code here\n",
    "testing_collection = []\n",
    "accuracy = []\n",
    "for i in range(len(testing_list)):\n",
    "    testing_collection.append(testing_list[i][0])\n",
    "    accuracy.append(testing_list[i][1])\n",
    "testing_loss = [x*100 for x in testing_collection]\n",
    "plt.scatter(epoches, testing_loss)\n",
    "plt.title(\"Testing Loss Percentage\")\n",
    "plt.xlabel(\"Num of Epoches\")\n",
    "plt.ylabel(\"Percentage\")"
   ]
  },
  {
   "cell_type": "markdown",
   "metadata": {
    "colab_type": "text",
    "id": "GpNqunSGaY01"
   },
   "source": [
    "Draw a graph for Accuracy  percentage with respect to number of epochs "
   ]
  },
  {
   "cell_type": "code",
   "execution_count": 19,
   "metadata": {},
   "outputs": [
    {
     "data": {
      "text/plain": [
       "Text(0,0.5,'Percentage')"
      ]
     },
     "execution_count": 19,
     "metadata": {},
     "output_type": "execute_result"
    },
    {
     "data": {
      "image/png": "[encoded data removed]",
      "text/plain": [
       "<Figure size 432x288 with 1 Axes>"
      ]
     },
     "metadata": {},
     "output_type": "display_data"
    }
   ],
   "source": [
    "plt.scatter(epoches, accuracy)\n",
    "plt.title(\"Accuracy Percentage\")\n",
    "plt.xlabel(\"Num of Epoches\")\n",
    "plt.ylabel(\"Percentage\")"
   ]
  }
 ],
 "metadata": {
  "accelerator": "GPU",
  "colab": {
   "name": "Lab 1 DATA 586 AML.ipynb",
   "provenance": [],
   "version": "0.3.2"
  },
  "kernelspec": {
   "display_name": "Python 3",
   "language": "python",
   "name": "python3"
  },
  "language_info": {
   "codemirror_mode": {
    "name": "ipython",
    "version": 3
   },
   "file_extension": ".py",
   "mimetype": "text/x-python",
   "name": "python",
   "nbconvert_exporter": "python",
   "pygments_lexer": "ipython3",
   "version": "3.6.5"
  }
 },
 "nbformat": 4,
 "nbformat_minor": 1
}
