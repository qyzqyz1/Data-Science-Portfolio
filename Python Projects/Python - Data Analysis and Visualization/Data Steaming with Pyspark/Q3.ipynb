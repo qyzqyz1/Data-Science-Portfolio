{
 "cells": [
  {
   "cell_type": "markdown",
   "metadata": {},
   "source": [
    "## Question 3"
   ]
  },
  {
   "cell_type": "code",
   "execution_count": 1,
   "metadata": {},
   "outputs": [
    {
     "name": "stdout",
     "output_type": "stream",
     "text": [
      "root\n",
      " |-- PassengerId: integer (nullable = true)\n",
      " |-- Survived: integer (nullable = true)\n",
      " |-- Pclass: string (nullable = true)\n",
      " |-- Name: string (nullable = true)\n",
      " |-- Sex: string (nullable = true)\n",
      " |-- Age: double (nullable = true)\n",
      " |-- Fare: double (nullable = true)\n",
      "\n"
     ]
    }
   ],
   "source": [
    "# 1)\n",
    "import findspark\n",
    "findspark.init()\n",
    "\n",
    "import pyspark # only run after findspark.init()\n",
    "from pyspark.sql import SparkSession\n",
    "from pyspark.sql.functions import explode\n",
    "from pyspark.sql.functions import split\n",
    "from pyspark.sql.types import IntegerType\n",
    "from pyspark.sql.types import DoubleType\n",
    "spark = SparkSession \\\n",
    "    .builder \\\n",
    "    .appName(\"ReadFromData1\") \\\n",
    "    .getOrCreate()\n",
    "\n",
    "lines = spark \\\n",
    "    .readStream \\\n",
    "    .format(\"socket\") \\\n",
    "    .option(\"host\", \"localhost\") \\\n",
    "    .option(\"port\", 9999) \\\n",
    "    .load()\n",
    "\n",
    "df = lines\n",
    "\n",
    "split_col = pyspark.sql.functions.split(df['value'], ',')\n",
    "df = df.withColumn('PassengerId', split_col.getItem(0).cast(IntegerType()))\n",
    "df = df.withColumn('Survived', split_col.getItem(1).cast(IntegerType()))\n",
    "df = df.withColumn('Pclass', split_col.getItem(2))\n",
    "df = df.withColumn('Name', split_col.getItem(3))\n",
    "df = df.withColumn('Sex', split_col.getItem(4))\n",
    "df = df.withColumn('Age', split_col.getItem(5).cast(DoubleType()))\n",
    "df = df.withColumn('Fare', split_col.getItem(6).cast(DoubleType()))\n",
    "df = df.drop('value')\n",
    "df.printSchema()"
   ]
  },
  {
   "cell_type": "code",
   "execution_count": 2,
   "metadata": {},
   "outputs": [],
   "source": [
    "# 2)\n",
    "from pyspark.sql import SQLContext\n",
    "sqlContext = SQLContext(spark)\n",
    "query = df \\\n",
    "    .writeStream \\\n",
    "    .queryName(\"Query\") \\\n",
    "    .outputMode(\"append\") \\\n",
    "    .format(\"memory\") \\\n",
    "    .start()"
   ]
  },
  {
   "cell_type": "code",
   "execution_count": 3,
   "metadata": {},
   "outputs": [],
   "source": [
    "query.stop()"
   ]
  },
  {
   "cell_type": "code",
   "execution_count": 4,
   "metadata": {},
   "outputs": [
    {
     "name": "stdout",
     "output_type": "stream",
     "text": [
      "+-----------+--------+------+--------------------+------+----+-------+\n",
      "|PassengerId|Survived|Pclass|                Name|   Sex| Age|   Fare|\n",
      "+-----------+--------+------+--------------------+------+----+-------+\n",
      "|          1|       0|     3| Mr.OwenHarrisBraund|  male|22.0|   7.25|\n",
      "|          2|       1|     1|Mrs.JohnBradley(F...|female|38.0|71.2833|\n",
      "|          3|       1|     3| Miss.LainaHeikkinen|female|26.0|  7.925|\n",
      "|          4|       1|     1|Mrs.JacquesHeath(...|female|35.0|   53.1|\n",
      "|          5|       0|     3|Mr.WilliamHenryAllen|  male|35.0|   8.05|\n",
      "|          6|       0|     3|       Mr.JamesMoran|  male|null| 8.4583|\n",
      "|          7|       0|     1| Mr.TimothyJMcCarthy|  male|54.0|51.8625|\n",
      "|          8|       0|     3|Master.GostaLeona...|  male| 2.0| 21.075|\n",
      "|          9|       1|     3|Mrs.OscarW(Elisab...|female|27.0|11.1333|\n",
      "|         10|       1|     2|Mrs.Nicholas(Adel...|female|14.0|30.0708|\n",
      "|         11|       1|     3|Miss.MargueriteRu...|female| 4.0|   16.7|\n",
      "|         12|       1|     1|Miss.ElizabethBon...|female|58.0|  26.55|\n",
      "|         13|       0|     3|Mr.WilliamHenrySa...|  male|20.0|   8.05|\n",
      "|         14|       0|     3|Mr.AndersJohanAnd...|  male|39.0| 31.275|\n",
      "|         15|       0|     3|Miss.HuldaAmandaA...|female|14.0| 7.8542|\n",
      "|         16|       1|     2|Mrs.(MaryDKingcom...|female|55.0|   16.0|\n",
      "|         17|       0|     3|   Master.EugeneRice|  male| 2.0| 29.125|\n",
      "|         18|       1|     2|Mr.CharlesEugeneW...|  male|null|   13.0|\n",
      "|         19|       0|     3|Mrs.Julius(Emelia...|female|31.0|   18.0|\n",
      "|         20|       1|     3|Mrs.FatimaMasselmani|female|null|  7.225|\n",
      "+-----------+--------+------+--------------------+------+----+-------+\n",
      "only showing top 20 rows\n",
      "\n"
     ]
    }
   ],
   "source": [
    "part_2 = sqlContext.sql(\"SELECT * FROM Query\")\n",
    "part_2.show()"
   ]
  },
  {
   "cell_type": "code",
   "execution_count": 5,
   "metadata": {},
   "outputs": [
    {
     "name": "stdout",
     "output_type": "stream",
     "text": [
      "+-----------------+\n",
      "|       Percentage|\n",
      "+-----------------+\n",
      "|35.15981735159817|\n",
      "+-----------------+\n",
      "\n"
     ]
    }
   ],
   "source": [
    "# 3)\n",
    "part_3 = sqlContext.sql(\"SELECT SUM(Survived)/Count(Survived)*100 As Percentage FROM Query\")\n",
    "part_3.show()"
   ]
  },
  {
   "cell_type": "code",
   "execution_count": 6,
   "metadata": {},
   "outputs": [
    {
     "name": "stdout",
     "output_type": "stream",
     "text": [
      "+------+--------+\n",
      "|   Sex|Survived|\n",
      "+------+--------+\n",
      "|female|      56|\n",
      "|  male|      21|\n",
      "+------+--------+\n",
      "\n"
     ]
    }
   ],
   "source": [
    "# 4)\n",
    "part_4 = sqlContext.sql(\"SELECT Sex, COUNT(Survived) AS Survived FROM Query WHERE Survived == 1 GROUP BY SEX\")\n",
    "part_4.show()\n",
    "# Pattern: More females are survived than males"
   ]
  },
  {
   "cell_type": "code",
   "execution_count": 7,
   "metadata": {},
   "outputs": [
    {
     "name": "stdout",
     "output_type": "stream",
     "text": [
      "+------+------------------+\n",
      "|Pclass|        Percentage|\n",
      "+------+------------------+\n",
      "|     1| 45.23809523809524|\n",
      "|     2| 45.23809523809524|\n",
      "|     3|28.888888888888886|\n",
      "+------+------------------+\n",
      "\n"
     ]
    }
   ],
   "source": [
    "# 5)\n",
    "part_5 = sqlContext.sql(\"SELECT Pclass, SUM(Survived)/Count(Survived)*100 As Percentage FROM Query GROUP BY Pclass ORDER BY Pclass\")\n",
    "part_5.show()"
   ]
  }
 ],
 "metadata": {
  "kernelspec": {
   "display_name": "Python 3",
   "language": "python",
   "name": "python3"
  },
  "language_info": {
   "codemirror_mode": {
    "name": "ipython",
    "version": 3
   },
   "file_extension": ".py",
   "mimetype": "text/x-python",
   "name": "python",
   "nbconvert_exporter": "python",
   "pygments_lexer": "ipython3",
   "version": "3.6.5"
  }
 },
 "nbformat": 4,
 "nbformat_minor": 2
}
