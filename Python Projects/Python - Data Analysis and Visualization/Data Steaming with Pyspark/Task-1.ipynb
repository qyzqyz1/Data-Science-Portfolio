{
 "cells": [
  {
   "cell_type": "markdown",
   "metadata": {},
   "source": [
    "## Question 1"
   ]
  },
  {
   "cell_type": "code",
   "execution_count": 1,
   "metadata": {},
   "outputs": [
    {
     "name": "stdout",
     "output_type": "stream",
     "text": [
      "root\n",
      " |-- numbers: integer (nullable = true)\n",
      "\n"
     ]
    }
   ],
   "source": [
    "# 1)\n",
    "import findspark\n",
    "findspark.init()\n",
    "\n",
    "import pyspark # only run after findspark.init()\n",
    "from pyspark.sql import SparkSession\n",
    "from pyspark.sql.functions import explode\n",
    "from pyspark.sql.functions import split\n",
    "from pyspark.sql.types import IntegerType\n",
    "spark = SparkSession \\\n",
    "    .builder \\\n",
    "    .appName(\"ReadNumbers\") \\\n",
    "    .getOrCreate()\n",
    "\n",
    "lines = spark \\\n",
    "    .readStream \\\n",
    "    .format(\"socket\") \\\n",
    "    .option(\"host\", \"localhost\") \\\n",
    "    .option(\"port\", 9999) \\\n",
    "    .load()\n",
    "\n",
    "# Split the lines into words\n",
    "nums = lines.select(\n",
    "   explode(\n",
    "       split(lines.value, \",\")\n",
    "   ).alias(\"number\")\n",
    ")\n",
    "numbers = nums.withColumn(\"numbers\", nums[\"number\"].cast(IntegerType())).drop('number')\n",
    "numbers.printSchema()"
   ]
  },
  {
   "cell_type": "code",
   "execution_count": 2,
   "metadata": {
    "scrolled": false
   },
   "outputs": [],
   "source": [
    "# 2)\n",
    "from pyspark.sql import SQLContext\n",
    "sqlContext = SQLContext(spark)\n",
    "query1 = numbers \\\n",
    "    .writeStream \\\n",
    "    .queryName(\"Query1\") \\\n",
    "    .outputMode(\"append\") \\\n",
    "    .format(\"memory\") \\\n",
    "    .start()"
   ]
  },
  {
   "cell_type": "code",
   "execution_count": 3,
   "metadata": {},
   "outputs": [],
   "source": [
    "query1.stop()"
   ]
  },
  {
   "cell_type": "code",
   "execution_count": 4,
   "metadata": {},
   "outputs": [
    {
     "name": "stdout",
     "output_type": "stream",
     "text": [
      "+-------+\n",
      "|numbers|\n",
      "+-------+\n",
      "|    -20|\n",
      "|     10|\n",
      "|     40|\n",
      "+-------+\n",
      "\n"
     ]
    }
   ],
   "source": [
    "# 3)\n",
    "part_3 = sqlContext.sql(\"SELECT * FROM Query1 ORDER BY numbers ASC\")\n",
    "part_3.show()"
   ]
  },
  {
   "cell_type": "code",
   "execution_count": 8,
   "metadata": {},
   "outputs": [
    {
     "name": "stdout",
     "output_type": "stream",
     "text": [
      "+-------+-------+-------+\n",
      "|minimum|maximum|average|\n",
      "+-------+-------+-------+\n",
      "|    -20|     40|   10.0|\n",
      "+-------+-------+-------+\n",
      "\n"
     ]
    }
   ],
   "source": [
    "# 4)\n",
    "part_4 = sqlContext.sql(\"SELECT MIN(numbers) AS minimum, MAX(numbers) AS maximum, AVG(numbers) AS average FROM Query1\")\n",
    "part_4.show()"
   ]
  }
 ],
 "metadata": {
  "kernelspec": {
   "display_name": "Python 3",
   "language": "python",
   "name": "python3"
  },
  "language_info": {
   "codemirror_mode": {
    "name": "ipython",
    "version": 3
   },
   "file_extension": ".py",
   "mimetype": "text/x-python",
   "name": "python",
   "nbconvert_exporter": "python",
   "pygments_lexer": "ipython3",
   "version": "3.6.5"
  }
 },
 "nbformat": 4,
 "nbformat_minor": 2
}
