{
 "cells": [
  {
   "cell_type": "markdown",
   "metadata": {},
   "source": [
    "### Question 4"
   ]
  },
  {
   "cell_type": "code",
   "execution_count": 1,
   "metadata": {},
   "outputs": [],
   "source": [
    "# 1)\n",
    "import findspark\n",
    "findspark.init()\n",
    "\n",
    "import pyspark # only run after findspark.init()\n",
    "from pyspark.sql import SparkSession\n",
    "from pyspark.sql.functions import explode\n",
    "from pyspark.sql.functions import split\n",
    "\n",
    "spark = SparkSession \\\n",
    "    .builder \\\n",
    "    .appName(\"ReadFromData1\") \\\n",
    "    .getOrCreate()\n",
    "\n",
    "lines = spark \\\n",
    "    .readStream \\\n",
    "    .format(\"socket\") \\\n",
    "    .option(\"host\", \"localhost\") \\\n",
    "    .option(\"port\", 9999) \\\n",
    "    .load()\n",
    "\n",
    "# Split the lines into words\n",
    "words = lines.select(\n",
    "   explode(\n",
    "       split(lines.value, \" \")\n",
    "   ).alias(\"Word\")\n",
    ")"
   ]
  },
  {
   "cell_type": "code",
   "execution_count": 2,
   "metadata": {},
   "outputs": [
    {
     "name": "stdout",
     "output_type": "stream",
     "text": [
      "root\n",
      " |-- Word: string (nullable = true)\n",
      "\n"
     ]
    }
   ],
   "source": [
    "# 2)\n",
    "hashtags = words.where(words.Word.like('#%'))\n",
    "hashtags.printSchema()"
   ]
  },
  {
   "cell_type": "code",
   "execution_count": 3,
   "metadata": {},
   "outputs": [],
   "source": [
    "# 3)\n",
    "from pyspark.sql import SQLContext\n",
    "sqlContext = SQLContext(spark)\n",
    "query = hashtags \\\n",
    "    .writeStream \\\n",
    "    .queryName(\"Query\") \\\n",
    "    .outputMode(\"append\") \\\n",
    "    .format(\"memory\") \\\n",
    "    .start()"
   ]
  },
  {
   "cell_type": "code",
   "execution_count": 4,
   "metadata": {},
   "outputs": [],
   "source": [
    "query.stop()"
   ]
  },
  {
   "cell_type": "code",
   "execution_count": 5,
   "metadata": {},
   "outputs": [
    {
     "name": "stdout",
     "output_type": "stream",
     "text": [
      "+--------------------+\n",
      "|                Word|\n",
      "+--------------------+\n",
      "| #trippolisontheroad|\n",
      "|     #danipolisviaja|\n",
      "|            #morning|\n",
      "|           #Saturday|\n",
      "|              #diner|\n",
      "|                 #VT|\n",
      "|          #breakfast|\n",
      "|#nucorpsofcadetsring|\n",
      "|               #ring|\n",
      "|            #college|\n",
      "|            #hiring!|\n",
      "|                #job|\n",
      "|             #Retail|\n",
      "|                #Job|\n",
      "|               #Jobs|\n",
      "|             #Hiring|\n",
      "|             #Retail|\n",
      "|                #Job|\n",
      "|               #Jobs|\n",
      "|             #Hiring|\n",
      "+--------------------+\n",
      "only showing top 20 rows\n",
      "\n"
     ]
    }
   ],
   "source": [
    "part_3 = sqlContext.sql(\"SELECT * FROM Query\")\n",
    "part_3.show()"
   ]
  },
  {
   "cell_type": "code",
   "execution_count": 6,
   "metadata": {},
   "outputs": [
    {
     "name": "stdout",
     "output_type": "stream",
     "text": [
      "+------------+-----+\n",
      "|        Word|Count|\n",
      "+------------+-----+\n",
      "|     #Hiring|   22|\n",
      "|       #Jobs|   18|\n",
      "|        #Job|   16|\n",
      "|  #CareerArc|   14|\n",
      "|        #job|    8|\n",
      "|       #job?|    6|\n",
      "|     #Retail|    4|\n",
      "|#Hospitality|    4|\n",
      "|   #Veterans|    3|\n",
      "|    #hiring!|    3|\n",
      "+------------+-----+\n",
      "\n"
     ]
    }
   ],
   "source": [
    "# 4)\n",
    "part_4 = sqlContext.sql(\"SELECT Word, COUNT(Word) AS Count FROM Query GROUP BY Word ORDER BY Count DESC LIMIT 10\")\n",
    "part_4.show()"
   ]
  }
 ],
 "metadata": {
  "kernelspec": {
   "display_name": "Python 3",
   "language": "python",
   "name": "python3"
  },
  "language_info": {
   "codemirror_mode": {
    "name": "ipython",
    "version": 3
   },
   "file_extension": ".py",
   "mimetype": "text/x-python",
   "name": "python",
   "nbconvert_exporter": "python",
   "pygments_lexer": "ipython3",
   "version": "3.6.5"
  }
 },
 "nbformat": 4,
 "nbformat_minor": 2
}
