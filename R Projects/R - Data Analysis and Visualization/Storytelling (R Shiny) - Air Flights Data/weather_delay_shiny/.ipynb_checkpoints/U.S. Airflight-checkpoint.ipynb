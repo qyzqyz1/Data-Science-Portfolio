{
 "cells": [
  {
   "cell_type": "code",
   "execution_count": 21,
   "metadata": {},
   "outputs": [],
   "source": [
    "air <- read.csv(\"air_new.csv\")"
   ]
  },
  {
   "cell_type": "code",
   "execution_count": 22,
   "metadata": {},
   "outputs": [],
   "source": [
    "df <- subset(air, Month==12 & DayofMonth == 25)"
   ]
  },
  {
   "cell_type": "code",
   "execution_count": 26,
   "metadata": {},
   "outputs": [],
   "source": [
    "dest_count <- as.data.frame(table(df$Dest))\n",
    "origin_count <- as.data.frame(table(df$Origin))\n",
    " \n",
    "total_count <- merge(dest_count, origin_count, by=\"Var1\")\n",
    "total_count$total <- total_count$Freq.x + total_count$Freq.y\n",
    "colnames(total_count) <- c(\"iata_code\",\"dest_count\",\"origin_count\",\"total_delay_counts\")\n",
    "      \n",
    "new_airports <- merge(airports, total_count, by=\"iata_code\")\n",
    "top_10 <- head(new_airports[order(new_airports$total_delay_counts, decreasing = TRUE),], 10)"
   ]
  },
  {
   "cell_type": "code",
   "execution_count": 28,
   "metadata": {},
   "outputs": [
    {
     "data": {
      "text/html": [
       "<table>\n",
       "<thead><tr><th></th><th scope=col>iata_code</th><th scope=col>latitude_deg</th><th scope=col>longitude_deg</th><th scope=col>dest_count</th><th scope=col>origin_count</th><th scope=col>total_delay_counts</th></tr></thead>\n",
       "<tbody>\n",
       "\t<tr><th scope=row>253</th><td>SLC      </td><td>40.7884  </td><td>-111.9780</td><td>14       </td><td>41       </td><td>55       </td></tr>\n",
       "\t<tr><th scope=row>146</th><td>LAS      </td><td>36.0801  </td><td>-115.1520</td><td>31       </td><td>20       </td><td>51       </td></tr>\n",
       "\t<tr><th scope=row>244</th><td>SEA      </td><td>47.4490  </td><td>-122.3090</td><td> 5       </td><td>44       </td><td>49       </td></tr>\n",
       "\t<tr><th scope=row>201</th><td>ORD      </td><td>41.9786  </td><td> -87.9048</td><td>14       </td><td>31       </td><td>45       </td></tr>\n",
       "\t<tr><th scope=row>74</th><td>DEN      </td><td>39.8617  </td><td>-104.6730</td><td>15       </td><td>11       </td><td>26       </td></tr>\n",
       "\t<tr><th scope=row>210</th><td>PHX      </td><td>33.4343  </td><td>-112.0120</td><td>15       </td><td> 9       </td><td>24       </td></tr>\n",
       "\t<tr><th scope=row>207</th><td>PDX      </td><td>45.5887  </td><td>-122.5980</td><td> 8       </td><td>13       </td><td>21       </td></tr>\n",
       "\t<tr><th scope=row>75</th><td>DFW      </td><td>32.8968  </td><td> -97.0380</td><td>13       </td><td> 4       </td><td>17       </td></tr>\n",
       "\t<tr><th scope=row>148</th><td>LAX      </td><td>33.9425  </td><td>-118.4080</td><td>11       </td><td> 4       </td><td>15       </td></tr>\n",
       "\t<tr><th scope=row>229</th><td>RNO      </td><td>39.4991  </td><td>-119.7680</td><td> 3       </td><td>11       </td><td>14       </td></tr>\n",
       "</tbody>\n",
       "</table>\n"
      ],
      "text/latex": [
       "\\begin{tabular}{r|llllll}\n",
       "  & iata\\_code & latitude\\_deg & longitude\\_deg & dest\\_count & origin\\_count & total\\_delay\\_counts\\\\\n",
       "\\hline\n",
       "\t253 & SLC       & 40.7884   & -111.9780 & 14        & 41        & 55       \\\\\n",
       "\t146 & LAS       & 36.0801   & -115.1520 & 31        & 20        & 51       \\\\\n",
       "\t244 & SEA       & 47.4490   & -122.3090 &  5        & 44        & 49       \\\\\n",
       "\t201 & ORD       & 41.9786   &  -87.9048 & 14        & 31        & 45       \\\\\n",
       "\t74 & DEN       & 39.8617   & -104.6730 & 15        & 11        & 26       \\\\\n",
       "\t210 & PHX       & 33.4343   & -112.0120 & 15        &  9        & 24       \\\\\n",
       "\t207 & PDX       & 45.5887   & -122.5980 &  8        & 13        & 21       \\\\\n",
       "\t75 & DFW       & 32.8968   &  -97.0380 & 13        &  4        & 17       \\\\\n",
       "\t148 & LAX       & 33.9425   & -118.4080 & 11        &  4        & 15       \\\\\n",
       "\t229 & RNO       & 39.4991   & -119.7680 &  3        & 11        & 14       \\\\\n",
       "\\end{tabular}\n"
      ],
      "text/markdown": [
       "\n",
       "| <!--/--> | iata_code | latitude_deg | longitude_deg | dest_count | origin_count | total_delay_counts | \n",
       "|---|---|---|---|---|---|---|---|---|---|\n",
       "| 253 | SLC       | 40.7884   | -111.9780 | 14        | 41        | 55        | \n",
       "| 146 | LAS       | 36.0801   | -115.1520 | 31        | 20        | 51        | \n",
       "| 244 | SEA       | 47.4490   | -122.3090 |  5        | 44        | 49        | \n",
       "| 201 | ORD       | 41.9786   |  -87.9048 | 14        | 31        | 45        | \n",
       "| 74 | DEN       | 39.8617   | -104.6730 | 15        | 11        | 26        | \n",
       "| 210 | PHX       | 33.4343   | -112.0120 | 15        |  9        | 24        | \n",
       "| 207 | PDX       | 45.5887   | -122.5980 |  8        | 13        | 21        | \n",
       "| 75 | DFW       | 32.8968   |  -97.0380 | 13        |  4        | 17        | \n",
       "| 148 | LAX       | 33.9425   | -118.4080 | 11        |  4        | 15        | \n",
       "| 229 | RNO       | 39.4991   | -119.7680 |  3        | 11        | 14        | \n",
       "\n",
       "\n"
      ],
      "text/plain": [
       "    iata_code latitude_deg longitude_deg dest_count origin_count\n",
       "253 SLC       40.7884      -111.9780     14         41          \n",
       "146 LAS       36.0801      -115.1520     31         20          \n",
       "244 SEA       47.4490      -122.3090      5         44          \n",
       "201 ORD       41.9786       -87.9048     14         31          \n",
       "74  DEN       39.8617      -104.6730     15         11          \n",
       "210 PHX       33.4343      -112.0120     15          9          \n",
       "207 PDX       45.5887      -122.5980      8         13          \n",
       "75  DFW       32.8968       -97.0380     13          4          \n",
       "148 LAX       33.9425      -118.4080     11          4          \n",
       "229 RNO       39.4991      -119.7680      3         11          \n",
       "    total_delay_counts\n",
       "253 55                \n",
       "146 51                \n",
       "244 49                \n",
       "201 45                \n",
       "74  26                \n",
       "210 24                \n",
       "207 21                \n",
       "75  17                \n",
       "148 15                \n",
       "229 14                "
      ]
     },
     "metadata": {},
     "output_type": "display_data"
    }
   ],
   "source": [
    "top_10"
   ]
  },
  {
   "cell_type": "code",
   "execution_count": 32,
   "metadata": {},
   "outputs": [],
   "source": [
    " collection <- c()\n",
    "      i <- 1\n",
    "      for(item in top_10$iata_code){\n",
    "        collection[i] <- mean(subset(df, Dest==item|Origin==item)$WeatherDelay)\n",
    "        i <- i+1\n",
    "      }\n",
    "top_10_mean_delay <- as.matrix(collection)\n",
    "top_10_mean_delay <- as.data.frame(top_10_mean_delay)\n",
    "colnames(top_10_mean_delay) <- \"mean_delay\"\n",
    "top_10 <- cbind(top_10, top_10_mean_delay)\n",
    "added_data <- top_10[,c(\"iata_code\",\"mean_delay\")]\n",
    "      \n",
    "airports_plot <- merge(new_airports, added_data, by=\"iata_code\", all.x=TRUE)\n",
    "airports_plot[is.na(airports_plot)] <- 0"
   ]
  },
  {
   "cell_type": "code",
   "execution_count": 36,
   "metadata": {},
   "outputs": [
    {
     "data": {
      "text/html": [
       "<table>\n",
       "<thead><tr><th scope=col>iata_code</th><th scope=col>latitude_deg</th><th scope=col>longitude_deg</th><th scope=col>dest_count</th><th scope=col>origin_count</th><th scope=col>total_delay_counts</th><th scope=col>mean_delay</th></tr></thead>\n",
       "<tbody>\n",
       "\t<tr><td>ABE      </td><td>40.6521  </td><td> -75.4408</td><td>0        </td><td>0        </td><td>0        </td><td>0        </td></tr>\n",
       "\t<tr><td>ABI      </td><td>32.4113  </td><td> -99.6819</td><td>0        </td><td>0        </td><td>0        </td><td>0        </td></tr>\n",
       "\t<tr><td>ABQ      </td><td>35.0402  </td><td>-106.6090</td><td>3        </td><td>2        </td><td>5        </td><td>0        </td></tr>\n",
       "\t<tr><td>ABY      </td><td>31.5355  </td><td> -84.1945</td><td>0        </td><td>0        </td><td>0        </td><td>0        </td></tr>\n",
       "\t<tr><td>ACK      </td><td>41.2531  </td><td> -70.0602</td><td>0        </td><td>0        </td><td>0        </td><td>0        </td></tr>\n",
       "\t<tr><td>ACT      </td><td>31.6113  </td><td> -97.2305</td><td>0        </td><td>0        </td><td>0        </td><td>0        </td></tr>\n",
       "</tbody>\n",
       "</table>\n"
      ],
      "text/latex": [
       "\\begin{tabular}{r|lllllll}\n",
       " iata\\_code & latitude\\_deg & longitude\\_deg & dest\\_count & origin\\_count & total\\_delay\\_counts & mean\\_delay\\\\\n",
       "\\hline\n",
       "\t ABE       & 40.6521   &  -75.4408 & 0         & 0         & 0         & 0        \\\\\n",
       "\t ABI       & 32.4113   &  -99.6819 & 0         & 0         & 0         & 0        \\\\\n",
       "\t ABQ       & 35.0402   & -106.6090 & 3         & 2         & 5         & 0        \\\\\n",
       "\t ABY       & 31.5355   &  -84.1945 & 0         & 0         & 0         & 0        \\\\\n",
       "\t ACK       & 41.2531   &  -70.0602 & 0         & 0         & 0         & 0        \\\\\n",
       "\t ACT       & 31.6113   &  -97.2305 & 0         & 0         & 0         & 0        \\\\\n",
       "\\end{tabular}\n"
      ],
      "text/markdown": [
       "\n",
       "iata_code | latitude_deg | longitude_deg | dest_count | origin_count | total_delay_counts | mean_delay | \n",
       "|---|---|---|---|---|---|\n",
       "| ABE       | 40.6521   |  -75.4408 | 0         | 0         | 0         | 0         | \n",
       "| ABI       | 32.4113   |  -99.6819 | 0         | 0         | 0         | 0         | \n",
       "| ABQ       | 35.0402   | -106.6090 | 3         | 2         | 5         | 0         | \n",
       "| ABY       | 31.5355   |  -84.1945 | 0         | 0         | 0         | 0         | \n",
       "| ACK       | 41.2531   |  -70.0602 | 0         | 0         | 0         | 0         | \n",
       "| ACT       | 31.6113   |  -97.2305 | 0         | 0         | 0         | 0         | \n",
       "\n",
       "\n"
      ],
      "text/plain": [
       "  iata_code latitude_deg longitude_deg dest_count origin_count\n",
       "1 ABE       40.6521       -75.4408     0          0           \n",
       "2 ABI       32.4113       -99.6819     0          0           \n",
       "3 ABQ       35.0402      -106.6090     3          2           \n",
       "4 ABY       31.5355       -84.1945     0          0           \n",
       "5 ACK       41.2531       -70.0602     0          0           \n",
       "6 ACT       31.6113       -97.2305     0          0           \n",
       "  total_delay_counts mean_delay\n",
       "1 0                  0         \n",
       "2 0                  0         \n",
       "3 5                  0         \n",
       "4 0                  0         \n",
       "5 0                  0         \n",
       "6 0                  0         "
      ]
     },
     "metadata": {},
     "output_type": "display_data"
    }
   ],
   "source": [
    "head(airports_plot)"
   ]
  },
  {
   "cell_type": "code",
   "execution_count": null,
   "metadata": {},
   "outputs": [],
   "source": []
  }
 ],
 "metadata": {
  "kernelspec": {
   "display_name": "R",
   "language": "R",
   "name": "ir"
  },
  "language_info": {
   "codemirror_mode": "r",
   "file_extension": ".r",
   "mimetype": "text/x-r-source",
   "name": "R",
   "pygments_lexer": "r",
   "version": "3.4.3"
  }
 },
 "nbformat": 4,
 "nbformat_minor": 2
}
