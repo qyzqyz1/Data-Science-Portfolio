{
 "cells": [
  {
   "cell_type": "code",
   "execution_count": 84,
   "metadata": {},
   "outputs": [],
   "source": [
    "air <- read.csv(\"air_new.csv\")\n",
    "source(\"airports.R\")"
   ]
  },
  {
   "cell_type": "code",
   "execution_count": 93,
   "metadata": {},
   "outputs": [],
   "source": [
    " counts <- list()\n",
    "      \n",
    "      df <- subset(air, Month==12)\n",
    "      max_days <- max(df$DayofMonth)\n",
    "      for(day in seq(max_days)){\n",
    "        df <- subset(air, Month==12)\n",
    "        df <- subset(df, DayofMonth==day)\n",
    "        \n",
    "        \n",
    "        dest_count <- as.data.frame(table(df$Dest))\n",
    "        origin_count <- as.data.frame(table(df$Origin))\n",
    "        \n",
    "        total_count <- merge(dest_count, origin_count, by=\"Var1\")\n",
    "        total_count$total <- total_count$Freq.x + total_count$Freq.y\n",
    "        colnames(total_count) <- c(\"iata_code\",\"dest_count\",\"origin_count\",\"total_delay_counts\")\n",
    "        \n",
    "        new_airports <- merge(airports, total_count, by=\"iata_code\")\n",
    "        top_5 <- head(new_airports[order(new_airports$total_delay_counts, decreasing = TRUE),], 5)\n",
    "        \n",
    "        collection <- c()\n",
    "        i <- 1\n",
    "        for(item in top_5$iata_code){\n",
    "          collection[i] <- mean(subset(df, Dest==item|Origin==item)$WeatherDelay)\n",
    "          i <- i+1\n",
    "        }\n",
    "        top_5_mean_delay <- as.matrix(collection)\n",
    "        top_5_mean_delay <- as.data.frame(top_5_mean_delay)\n",
    "        colnames(top_5_mean_delay) <- \"mean_delay\"\n",
    "        top_5 <- cbind(top_5, top_5_mean_delay)\n",
    "        added_data <- top_5[,c(\"iata_code\",\"mean_delay\")]\n",
    "        \n",
    "        airports_plot <- merge(new_airports, added_data, by=\"iata_code\", all.x=TRUE)\n",
    "        \n",
    "        airports_plot[is.na(airports_plot)] <- 0\n",
    "        \n",
    "        counts[[day]] <- top_5$iata_code\n",
    "        \n",
    "      }\n",
    "      df2 <- counts[[1]]\n",
    "      for(i in seq(2:max_days)){\n",
    "        df2 <- rbind(df2, counts[[i]])\n",
    "      }\n",
    "      \n",
    "      data <- table(df2)"
   ]
  },
  {
   "cell_type": "code",
   "execution_count": 94,
   "metadata": {},
   "outputs": [
    {
     "data": {
      "text/plain": [
       "df2\n",
       "ATL BOS BUF CLE COS CVG DEN DFW DTW EWR HNL IAD IAH JFK LAS LGA LIH MDW MEM MKE \n",
       " 19   2   1   2   1  10   9   8   4  11   2   1  12   4   3   8   1   5   1   1 \n",
       "MSP ORD PDX PHL PHX SEA SFO SJC SLC SMF \n",
       "  6  25   1   1   1   7   1   1   6   1 "
      ]
     },
     "metadata": {},
     "output_type": "display_data"
    }
   ],
   "source": [
    "data\n",
    "# change the bar chart to ggplot2 chart and change month slider to numeric input box"
   ]
  },
  {
   "cell_type": "code",
   "execution_count": 97,
   "metadata": {},
   "outputs": [],
   "source": [
    "# for each iata_code (in dropdown), calculate and construct line plot of mean_delay vs. days in a month"
   ]
  },
  {
   "cell_type": "code",
   "execution_count": null,
   "metadata": {},
   "outputs": [],
   "source": []
  }
 ],
 "metadata": {
  "kernelspec": {
   "display_name": "R",
   "language": "R",
   "name": "ir"
  },
  "language_info": {
   "codemirror_mode": "r",
   "file_extension": ".r",
   "mimetype": "text/x-r-source",
   "name": "R",
   "pygments_lexer": "r",
   "version": "3.4.3"
  }
 },
 "nbformat": 4,
 "nbformat_minor": 2
}
