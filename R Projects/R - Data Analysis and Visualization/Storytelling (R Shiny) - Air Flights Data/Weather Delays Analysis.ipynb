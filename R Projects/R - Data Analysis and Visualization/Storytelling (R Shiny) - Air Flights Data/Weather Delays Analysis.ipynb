{
 "cells": [
  {
   "cell_type": "code",
   "execution_count": 1,
   "metadata": {},
   "outputs": [],
   "source": [
    "# Load the datasets\n",
    "setwd('C:/Users/yizhe/Desktop/MDS/Term4/data_550/miniposter/')\n",
    "air <- read.csv(\"air.csv\")\n",
    "source(\"airports.R\")\n",
    "source(\"cancellations.R\")\n",
    "source(\"FlightBehaviour.R\")"
   ]
  },
  {
   "cell_type": "code",
   "execution_count": 2,
   "metadata": {},
   "outputs": [
    {
     "data": {
      "text/html": [
       "<ol class=list-inline>\n",
       "\t<li>7001975</li>\n",
       "\t<li>29</li>\n",
       "</ol>\n"
      ],
      "text/latex": [
       "\\begin{enumerate*}\n",
       "\\item 7001975\n",
       "\\item 29\n",
       "\\end{enumerate*}\n"
      ],
      "text/markdown": [
       "1. 7001975\n",
       "2. 29\n",
       "\n",
       "\n"
      ],
      "text/plain": [
       "[1] 7001975      29"
      ]
     },
     "metadata": {},
     "output_type": "display_data"
    }
   ],
   "source": [
    "dim(air)"
   ]
  },
  {
   "cell_type": "code",
   "execution_count": 3,
   "metadata": {},
   "outputs": [
    {
     "data": {
      "text/html": [
       "<table>\n",
       "<thead><tr><th scope=col>X</th><th scope=col>Dest</th><th scope=col>Origin</th><th scope=col>Month</th><th scope=col>DayofMonth</th><th scope=col>DayOfWeek</th><th scope=col>DepTime</th><th scope=col>CRSDepTime</th><th scope=col>ArrTime</th><th scope=col>CRSArrTime</th><th scope=col>...</th><th scope=col>TaxiIn</th><th scope=col>TaxiOut</th><th scope=col>Cancelled</th><th scope=col>CancellationCode</th><th scope=col>Diverted</th><th scope=col>CarrierDelay</th><th scope=col>WeatherDelay</th><th scope=col>NASDelay</th><th scope=col>SecurityDelay</th><th scope=col>LateAircraftDelay</th></tr></thead>\n",
       "<tbody>\n",
       "\t<tr><td>1   </td><td>ABE </td><td>ORD </td><td> 3  </td><td>22  </td><td>6   </td><td>1342</td><td>1350</td><td>1629</td><td>1637</td><td>... </td><td>2   </td><td>22  </td><td>0   </td><td>    </td><td>0   </td><td>NA  </td><td>NA  </td><td>NA  </td><td>NA  </td><td>NA  </td></tr>\n",
       "\t<tr><td>2   </td><td>ABE </td><td>CLT </td><td> 1  </td><td> 5  </td><td>6   </td><td>2034</td><td>1945</td><td>2155</td><td>2117</td><td>... </td><td>6   </td><td>14  </td><td>0   </td><td>    </td><td>0   </td><td>38  </td><td> 0  </td><td> 0  </td><td> 0  </td><td> 0  </td></tr>\n",
       "\t<tr><td>3   </td><td>ABE </td><td>ORD </td><td>11  </td><td>29  </td><td>6   </td><td>1837</td><td>1836</td><td>2127</td><td>2120</td><td>... </td><td>3   </td><td>22  </td><td>0   </td><td>    </td><td>0   </td><td>NA  </td><td>NA  </td><td>NA  </td><td>NA  </td><td>NA  </td></tr>\n",
       "\t<tr><td>4   </td><td>ABE </td><td>DTW </td><td> 3  </td><td>21  </td><td>5   </td><td>1006</td><td>1008</td><td>1123</td><td>1140</td><td>... </td><td>9   </td><td>10  </td><td>0   </td><td>    </td><td>0   </td><td>NA  </td><td>NA  </td><td>NA  </td><td>NA  </td><td>NA  </td></tr>\n",
       "\t<tr><td>5   </td><td>ABE </td><td>ORD </td><td>10  </td><td> 3  </td><td>5   </td><td>1803</td><td>1806</td><td>2040</td><td>2055</td><td>... </td><td>5   </td><td>12  </td><td>0   </td><td>    </td><td>0   </td><td>NA  </td><td>NA  </td><td>NA  </td><td>NA  </td><td>NA  </td></tr>\n",
       "\t<tr><td>6   </td><td>ABE </td><td>DTW </td><td> 7  </td><td>22  </td><td>2   </td><td>1005</td><td>1007</td><td>1126</td><td>1140</td><td>... </td><td>5   </td><td>14  </td><td>0   </td><td>    </td><td>0   </td><td>NA  </td><td>NA  </td><td>NA  </td><td>NA  </td><td>NA  </td></tr>\n",
       "</tbody>\n",
       "</table>\n"
      ],
      "text/latex": [
       "\\begin{tabular}{r|lllllllllllllllllllllllllllll}\n",
       " X & Dest & Origin & Month & DayofMonth & DayOfWeek & DepTime & CRSDepTime & ArrTime & CRSArrTime & ... & TaxiIn & TaxiOut & Cancelled & CancellationCode & Diverted & CarrierDelay & WeatherDelay & NASDelay & SecurityDelay & LateAircraftDelay\\\\\n",
       "\\hline\n",
       "\t 1    & ABE  & ORD  &  3   & 22   & 6    & 1342 & 1350 & 1629 & 1637 & ...  & 2    & 22   & 0    &      & 0    & NA   & NA   & NA   & NA   & NA  \\\\\n",
       "\t 2    & ABE  & CLT  &  1   &  5   & 6    & 2034 & 1945 & 2155 & 2117 & ...  & 6    & 14   & 0    &      & 0    & 38   &  0   &  0   &  0   &  0  \\\\\n",
       "\t 3    & ABE  & ORD  & 11   & 29   & 6    & 1837 & 1836 & 2127 & 2120 & ...  & 3    & 22   & 0    &      & 0    & NA   & NA   & NA   & NA   & NA  \\\\\n",
       "\t 4    & ABE  & DTW  &  3   & 21   & 5    & 1006 & 1008 & 1123 & 1140 & ...  & 9    & 10   & 0    &      & 0    & NA   & NA   & NA   & NA   & NA  \\\\\n",
       "\t 5    & ABE  & ORD  & 10   &  3   & 5    & 1803 & 1806 & 2040 & 2055 & ...  & 5    & 12   & 0    &      & 0    & NA   & NA   & NA   & NA   & NA  \\\\\n",
       "\t 6    & ABE  & DTW  &  7   & 22   & 2    & 1005 & 1007 & 1126 & 1140 & ...  & 5    & 14   & 0    &      & 0    & NA   & NA   & NA   & NA   & NA  \\\\\n",
       "\\end{tabular}\n"
      ],
      "text/markdown": [
       "\n",
       "X | Dest | Origin | Month | DayofMonth | DayOfWeek | DepTime | CRSDepTime | ArrTime | CRSArrTime | ... | TaxiIn | TaxiOut | Cancelled | CancellationCode | Diverted | CarrierDelay | WeatherDelay | NASDelay | SecurityDelay | LateAircraftDelay | \n",
       "|---|---|---|---|---|---|\n",
       "| 1    | ABE  | ORD  |  3   | 22   | 6    | 1342 | 1350 | 1629 | 1637 | ...  | 2    | 22   | 0    |      | 0    | NA   | NA   | NA   | NA   | NA   | \n",
       "| 2    | ABE  | CLT  |  1   |  5   | 6    | 2034 | 1945 | 2155 | 2117 | ...  | 6    | 14   | 0    |      | 0    | 38   |  0   |  0   |  0   |  0   | \n",
       "| 3    | ABE  | ORD  | 11   | 29   | 6    | 1837 | 1836 | 2127 | 2120 | ...  | 3    | 22   | 0    |      | 0    | NA   | NA   | NA   | NA   | NA   | \n",
       "| 4    | ABE  | DTW  |  3   | 21   | 5    | 1006 | 1008 | 1123 | 1140 | ...  | 9    | 10   | 0    |      | 0    | NA   | NA   | NA   | NA   | NA   | \n",
       "| 5    | ABE  | ORD  | 10   |  3   | 5    | 1803 | 1806 | 2040 | 2055 | ...  | 5    | 12   | 0    |      | 0    | NA   | NA   | NA   | NA   | NA   | \n",
       "| 6    | ABE  | DTW  |  7   | 22   | 2    | 1005 | 1007 | 1126 | 1140 | ...  | 5    | 14   | 0    |      | 0    | NA   | NA   | NA   | NA   | NA   | \n",
       "\n",
       "\n"
      ],
      "text/plain": [
       "  X Dest Origin Month DayofMonth DayOfWeek DepTime CRSDepTime ArrTime\n",
       "1 1 ABE  ORD     3    22         6         1342    1350       1629   \n",
       "2 2 ABE  CLT     1     5         6         2034    1945       2155   \n",
       "3 3 ABE  ORD    11    29         6         1837    1836       2127   \n",
       "4 4 ABE  DTW     3    21         5         1006    1008       1123   \n",
       "5 5 ABE  ORD    10     3         5         1803    1806       2040   \n",
       "6 6 ABE  DTW     7    22         2         1005    1007       1126   \n",
       "  CRSArrTime ... TaxiIn TaxiOut Cancelled CancellationCode Diverted\n",
       "1 1637       ... 2      22      0                          0       \n",
       "2 2117       ... 6      14      0                          0       \n",
       "3 2120       ... 3      22      0                          0       \n",
       "4 1140       ... 9      10      0                          0       \n",
       "5 2055       ... 5      12      0                          0       \n",
       "6 1140       ... 5      14      0                          0       \n",
       "  CarrierDelay WeatherDelay NASDelay SecurityDelay LateAircraftDelay\n",
       "1 NA           NA           NA       NA            NA               \n",
       "2 38            0            0        0             0               \n",
       "3 NA           NA           NA       NA            NA               \n",
       "4 NA           NA           NA       NA            NA               \n",
       "5 NA           NA           NA       NA            NA               \n",
       "6 NA           NA           NA       NA            NA               "
      ]
     },
     "metadata": {},
     "output_type": "display_data"
    }
   ],
   "source": [
    "head(air)"
   ]
  },
  {
   "cell_type": "code",
   "execution_count": 4,
   "metadata": {},
   "outputs": [],
   "source": [
    "winter_day <- subset(air, Month==12)\n",
    "day <- 25\n",
    "if (!is.null(day)){\n",
    "    winter_day <- subset(winter_day, DayofMonth==day)\n",
    "}"
   ]
  },
  {
   "cell_type": "code",
   "execution_count": 5,
   "metadata": {},
   "outputs": [],
   "source": [
    "NNA_wd <- winter_day[complete.cases(winter_day[ , 'WeatherDelay']),]"
   ]
  },
  {
   "cell_type": "code",
   "execution_count": 6,
   "metadata": {},
   "outputs": [],
   "source": [
    "NNA_wd <- subset(NNA_wd, WeatherDelay > 0)"
   ]
  },
  {
   "cell_type": "code",
   "execution_count": 7,
   "metadata": {},
   "outputs": [
    {
     "data": {
      "text/plain": [
       "\n",
       "SEA SLC ORD LAS PDX DEN RNO PHX GEG MDW \n",
       " 44  41  31  20  13  11  11   9   7   6 "
      ]
     },
     "metadata": {},
     "output_type": "display_data"
    }
   ],
   "source": [
    "head(sort(table(NNA_wd$Origin),decreasing = T),10)"
   ]
  },
  {
   "cell_type": "code",
   "execution_count": 8,
   "metadata": {},
   "outputs": [
    {
     "data": {
      "text/plain": [
       "\n",
       "LAS DEN PHX ORD SLC DFW IAH LAX PDX BOI \n",
       " 31  15  15  14  14  13  11  11   8   7 "
      ]
     },
     "metadata": {},
     "output_type": "display_data"
    }
   ],
   "source": [
    "head(sort(table(NNA_wd$Dest),decreasing = T),10)"
   ]
  },
  {
   "cell_type": "code",
   "execution_count": 9,
   "metadata": {},
   "outputs": [],
   "source": [
    "# Exploring dataset\n",
    "ori_name <- unique(NNA_wd$Origin)\n",
    "dest_name <- unique(NNA_wd$Dest)"
   ]
  },
  {
   "cell_type": "code",
   "execution_count": 10,
   "metadata": {},
   "outputs": [],
   "source": [
    "# Adding latitude and longitude information from the airport.R dataframe to our air dataframe\n",
    "listofdfs <- list()\n",
    "for(item in ori_name){\n",
    "    latOrigin <- subset(airports,iata_code==item)['latitude_deg'][1,]\n",
    "    longOrigin <- subset(airports,iata_code==item)['longitude_deg'][1,]\n",
    "    s <- subset(NNA_wd, Origin==item)\n",
    "    s$latOrigin <- latOrigin\n",
    "    s$longOrigin <- longOrigin\n",
    "    listofdfs[[item]] <- s\n",
    "}\n",
    "\n",
    "\n",
    "NNA_wd <- do.call(\"rbind\", listofdfs)\n",
    "\n",
    "listofdfs <- list()\n",
    "for(item in dest_name){\n",
    "    latDest <- subset(airports,iata_code==item)['latitude_deg'][1,]\n",
    "    longDest <- subset(airports,iata_code==item)['longitude_deg'][1,]\n",
    "    s <- subset(NNA_wd, Dest==item)\n",
    "    s$latDest <- latDest\n",
    "    s$longDest <- longDest\n",
    "    listofdfs[[item]] <- s\n",
    "}\n",
    "NNA_wd <- do.call(\"rbind\", listofdfs)"
   ]
  },
  {
   "cell_type": "code",
   "execution_count": 11,
   "metadata": {},
   "outputs": [
    {
     "data": {
      "text/html": [
       "<table>\n",
       "<thead><tr><th></th><th scope=col>latitude_deg</th><th scope=col>longitude_deg</th><th scope=col>elevation_ft</th><th scope=col>iata_code</th><th scope=col>NDepartures</th><th scope=col>NArrivals</th><th scope=col>Cancelled</th></tr></thead>\n",
       "<tbody>\n",
       "\t<tr><th scope=row>25947</th><td>40.6521  </td><td> -75.4408</td><td> 393     </td><td>ABE      </td><td> 4807    </td><td> 4795    </td><td>152      </td></tr>\n",
       "\t<tr><th scope=row>25948</th><td>32.4113  </td><td> -99.6819</td><td>1791     </td><td>ABI      </td><td> 2660    </td><td> 2661    </td><td> 43      </td></tr>\n",
       "\t<tr><th scope=row>25949</th><td>35.0402  </td><td>-106.6090</td><td>5355     </td><td>ABQ      </td><td>41146    </td><td>41144    </td><td>333      </td></tr>\n",
       "\t<tr><th scope=row>25951</th><td>31.5355  </td><td> -84.1945</td><td> 197     </td><td>ABY      </td><td> 1095    </td><td> 1095    </td><td> 17      </td></tr>\n",
       "\t<tr><th scope=row>25954</th><td>41.2531  </td><td> -70.0602</td><td>  47     </td><td>ACK      </td><td>  457    </td><td>  469    </td><td> 38      </td></tr>\n",
       "\t<tr><th scope=row>25957</th><td>31.6113  </td><td> -97.2305</td><td> 516     </td><td>ACT      </td><td> 1993    </td><td> 1994    </td><td> 74      </td></tr>\n",
       "</tbody>\n",
       "</table>\n"
      ],
      "text/latex": [
       "\\begin{tabular}{r|lllllll}\n",
       "  & latitude\\_deg & longitude\\_deg & elevation\\_ft & iata\\_code & NDepartures & NArrivals & Cancelled\\\\\n",
       "\\hline\n",
       "\t25947 & 40.6521   &  -75.4408 &  393      & ABE       &  4807     &  4795     & 152      \\\\\n",
       "\t25948 & 32.4113   &  -99.6819 & 1791      & ABI       &  2660     &  2661     &  43      \\\\\n",
       "\t25949 & 35.0402   & -106.6090 & 5355      & ABQ       & 41146     & 41144     & 333      \\\\\n",
       "\t25951 & 31.5355   &  -84.1945 &  197      & ABY       &  1095     &  1095     &  17      \\\\\n",
       "\t25954 & 41.2531   &  -70.0602 &   47      & ACK       &   457     &   469     &  38      \\\\\n",
       "\t25957 & 31.6113   &  -97.2305 &  516      & ACT       &  1993     &  1994     &  74      \\\\\n",
       "\\end{tabular}\n"
      ],
      "text/markdown": [
       "\n",
       "| <!--/--> | latitude_deg | longitude_deg | elevation_ft | iata_code | NDepartures | NArrivals | Cancelled | \n",
       "|---|---|---|---|---|---|\n",
       "| 25947 | 40.6521   |  -75.4408 |  393      | ABE       |  4807     |  4795     | 152       | \n",
       "| 25948 | 32.4113   |  -99.6819 | 1791      | ABI       |  2660     |  2661     |  43       | \n",
       "| 25949 | 35.0402   | -106.6090 | 5355      | ABQ       | 41146     | 41144     | 333       | \n",
       "| 25951 | 31.5355   |  -84.1945 |  197      | ABY       |  1095     |  1095     |  17       | \n",
       "| 25954 | 41.2531   |  -70.0602 |   47      | ACK       |   457     |   469     |  38       | \n",
       "| 25957 | 31.6113   |  -97.2305 |  516      | ACT       |  1993     |  1994     |  74       | \n",
       "\n",
       "\n"
      ],
      "text/plain": [
       "      latitude_deg longitude_deg elevation_ft iata_code NDepartures NArrivals\n",
       "25947 40.6521       -75.4408      393         ABE        4807        4795    \n",
       "25948 32.4113       -99.6819     1791         ABI        2660        2661    \n",
       "25949 35.0402      -106.6090     5355         ABQ       41146       41144    \n",
       "25951 31.5355       -84.1945      197         ABY        1095        1095    \n",
       "25954 41.2531       -70.0602       47         ACK         457         469    \n",
       "25957 31.6113       -97.2305      516         ACT        1993        1994    \n",
       "      Cancelled\n",
       "25947 152      \n",
       "25948  43      \n",
       "25949 333      \n",
       "25951  17      \n",
       "25954  38      \n",
       "25957  74      "
      ]
     },
     "metadata": {},
     "output_type": "display_data"
    }
   ],
   "source": [
    "head(airports)"
   ]
  },
  {
   "cell_type": "code",
   "execution_count": 12,
   "metadata": {},
   "outputs": [
    {
     "data": {
      "text/html": [
       "<table>\n",
       "<thead><tr><th scope=col>Var1</th><th scope=col>Freq</th></tr></thead>\n",
       "<tbody>\n",
       "\t<tr><td>ABE</td><td>0  </td></tr>\n",
       "\t<tr><td>ABI</td><td>0  </td></tr>\n",
       "\t<tr><td>ABQ</td><td>3  </td></tr>\n",
       "\t<tr><td>ABY</td><td>0  </td></tr>\n",
       "\t<tr><td>ACK</td><td>0  </td></tr>\n",
       "\t<tr><td>ACT</td><td>0  </td></tr>\n",
       "</tbody>\n",
       "</table>\n"
      ],
      "text/latex": [
       "\\begin{tabular}{r|ll}\n",
       " Var1 & Freq\\\\\n",
       "\\hline\n",
       "\t ABE & 0  \\\\\n",
       "\t ABI & 0  \\\\\n",
       "\t ABQ & 3  \\\\\n",
       "\t ABY & 0  \\\\\n",
       "\t ACK & 0  \\\\\n",
       "\t ACT & 0  \\\\\n",
       "\\end{tabular}\n"
      ],
      "text/markdown": [
       "\n",
       "Var1 | Freq | \n",
       "|---|---|---|---|---|---|\n",
       "| ABE | 0   | \n",
       "| ABI | 0   | \n",
       "| ABQ | 3   | \n",
       "| ABY | 0   | \n",
       "| ACK | 0   | \n",
       "| ACT | 0   | \n",
       "\n",
       "\n"
      ],
      "text/plain": [
       "  Var1 Freq\n",
       "1 ABE  0   \n",
       "2 ABI  0   \n",
       "3 ABQ  3   \n",
       "4 ABY  0   \n",
       "5 ACK  0   \n",
       "6 ACT  0   "
      ]
     },
     "metadata": {},
     "output_type": "display_data"
    }
   ],
   "source": [
    "dest_count <- as.data.frame(table(NNA_wd$Dest))\n",
    "head(dest_count)"
   ]
  },
  {
   "cell_type": "code",
   "execution_count": 13,
   "metadata": {},
   "outputs": [
    {
     "data": {
      "text/html": [
       "<table>\n",
       "<thead><tr><th scope=col>Var1</th><th scope=col>Freq</th></tr></thead>\n",
       "<tbody>\n",
       "\t<tr><td>ABE</td><td>0  </td></tr>\n",
       "\t<tr><td>ABI</td><td>0  </td></tr>\n",
       "\t<tr><td>ABQ</td><td>2  </td></tr>\n",
       "\t<tr><td>ABY</td><td>0  </td></tr>\n",
       "\t<tr><td>ACK</td><td>0  </td></tr>\n",
       "\t<tr><td>ACT</td><td>0  </td></tr>\n",
       "</tbody>\n",
       "</table>\n"
      ],
      "text/latex": [
       "\\begin{tabular}{r|ll}\n",
       " Var1 & Freq\\\\\n",
       "\\hline\n",
       "\t ABE & 0  \\\\\n",
       "\t ABI & 0  \\\\\n",
       "\t ABQ & 2  \\\\\n",
       "\t ABY & 0  \\\\\n",
       "\t ACK & 0  \\\\\n",
       "\t ACT & 0  \\\\\n",
       "\\end{tabular}\n"
      ],
      "text/markdown": [
       "\n",
       "Var1 | Freq | \n",
       "|---|---|---|---|---|---|\n",
       "| ABE | 0   | \n",
       "| ABI | 0   | \n",
       "| ABQ | 2   | \n",
       "| ABY | 0   | \n",
       "| ACK | 0   | \n",
       "| ACT | 0   | \n",
       "\n",
       "\n"
      ],
      "text/plain": [
       "  Var1 Freq\n",
       "1 ABE  0   \n",
       "2 ABI  0   \n",
       "3 ABQ  2   \n",
       "4 ABY  0   \n",
       "5 ACK  0   \n",
       "6 ACT  0   "
      ]
     },
     "metadata": {},
     "output_type": "display_data"
    }
   ],
   "source": [
    "origin_count <- as.data.frame(table(NNA_wd$Origin))\n",
    "head(origin_count)"
   ]
  },
  {
   "cell_type": "code",
   "execution_count": 14,
   "metadata": {},
   "outputs": [],
   "source": [
    "total_count <- merge(dest_count, origin_count, by=\"Var1\")\n",
    "total_count$total <- total_count$Freq.x + total_count$Freq.y\n",
    "colnames(total_count) <- c(\"iata_code\",\"dest_count\",\"origin_count\",\"total_delay_counts\")"
   ]
  },
  {
   "cell_type": "code",
   "execution_count": 15,
   "metadata": {},
   "outputs": [
    {
     "data": {
      "text/html": [
       "<table>\n",
       "<thead><tr><th scope=col>iata_code</th><th scope=col>dest_count</th><th scope=col>origin_count</th><th scope=col>total_delay_counts</th></tr></thead>\n",
       "<tbody>\n",
       "\t<tr><td>ABE</td><td>0  </td><td>0  </td><td>0  </td></tr>\n",
       "\t<tr><td>ABI</td><td>0  </td><td>0  </td><td>0  </td></tr>\n",
       "\t<tr><td>ABQ</td><td>3  </td><td>2  </td><td>5  </td></tr>\n",
       "\t<tr><td>ABY</td><td>0  </td><td>0  </td><td>0  </td></tr>\n",
       "\t<tr><td>ACK</td><td>0  </td><td>0  </td><td>0  </td></tr>\n",
       "\t<tr><td>ACT</td><td>0  </td><td>0  </td><td>0  </td></tr>\n",
       "</tbody>\n",
       "</table>\n"
      ],
      "text/latex": [
       "\\begin{tabular}{r|llll}\n",
       " iata\\_code & dest\\_count & origin\\_count & total\\_delay\\_counts\\\\\n",
       "\\hline\n",
       "\t ABE & 0   & 0   & 0  \\\\\n",
       "\t ABI & 0   & 0   & 0  \\\\\n",
       "\t ABQ & 3   & 2   & 5  \\\\\n",
       "\t ABY & 0   & 0   & 0  \\\\\n",
       "\t ACK & 0   & 0   & 0  \\\\\n",
       "\t ACT & 0   & 0   & 0  \\\\\n",
       "\\end{tabular}\n"
      ],
      "text/markdown": [
       "\n",
       "iata_code | dest_count | origin_count | total_delay_counts | \n",
       "|---|---|---|---|---|---|\n",
       "| ABE | 0   | 0   | 0   | \n",
       "| ABI | 0   | 0   | 0   | \n",
       "| ABQ | 3   | 2   | 5   | \n",
       "| ABY | 0   | 0   | 0   | \n",
       "| ACK | 0   | 0   | 0   | \n",
       "| ACT | 0   | 0   | 0   | \n",
       "\n",
       "\n"
      ],
      "text/plain": [
       "  iata_code dest_count origin_count total_delay_counts\n",
       "1 ABE       0          0            0                 \n",
       "2 ABI       0          0            0                 \n",
       "3 ABQ       3          2            5                 \n",
       "4 ABY       0          0            0                 \n",
       "5 ACK       0          0            0                 \n",
       "6 ACT       0          0            0                 "
      ]
     },
     "metadata": {},
     "output_type": "display_data"
    }
   ],
   "source": [
    "head(total_count)"
   ]
  },
  {
   "cell_type": "code",
   "execution_count": 16,
   "metadata": {},
   "outputs": [],
   "source": [
    "new_airports <- merge(airports, total_count, by=\"iata_code\")\n",
    "top_10 <- head(new_airports[order(new_airports$total_delay_counts, decreasing = T),], 10)"
   ]
  },
  {
   "cell_type": "code",
   "execution_count": 17,
   "metadata": {},
   "outputs": [
    {
     "data": {
      "text/html": [
       "<table>\n",
       "<thead><tr><th></th><th scope=col>iata_code</th><th scope=col>latitude_deg</th><th scope=col>longitude_deg</th><th scope=col>elevation_ft</th><th scope=col>NDepartures</th><th scope=col>NArrivals</th><th scope=col>Cancelled</th><th scope=col>dest_count</th><th scope=col>origin_count</th><th scope=col>total_delay_counts</th></tr></thead>\n",
       "<tbody>\n",
       "\t<tr><th scope=row>266</th><td>SLC      </td><td>40.7884  </td><td>-111.9780</td><td>4227     </td><td>139086   </td><td>139077   </td><td> 1090    </td><td>14       </td><td>41       </td><td>55       </td></tr>\n",
       "\t<tr><th scope=row>156</th><td>LAS      </td><td>36.0801  </td><td>-115.1520</td><td>2181     </td><td>172876   </td><td>172871   </td><td> 2057    </td><td>31       </td><td>20       </td><td>51       </td></tr>\n",
       "\t<tr><th scope=row>257</th><td>SEA      </td><td>47.4490  </td><td>-122.3090</td><td> 433     </td><td>109069   </td><td>109075   </td><td> 1142    </td><td> 5       </td><td>44       </td><td>49       </td></tr>\n",
       "\t<tr><th scope=row>211</th><td>ORD      </td><td>41.9786  </td><td> -87.9048</td><td> 672     </td><td>350380   </td><td>350452   </td><td>15050    </td><td>14       </td><td>31       </td><td>45       </td></tr>\n",
       "\t<tr><th scope=row>81</th><td>DEN      </td><td>39.8617  </td><td>-104.6730</td><td>5431     </td><td>241442   </td><td>241470   </td><td> 2725    </td><td>15       </td><td>11       </td><td>26       </td></tr>\n",
       "\t<tr><th scope=row>220</th><td>PHX      </td><td>33.4343  </td><td>-112.0120</td><td>1135     </td><td>199408   </td><td>199416   </td><td> 1875    </td><td>15       </td><td> 9       </td><td>24       </td></tr>\n",
       "\t<tr><th scope=row>217</th><td>PDX      </td><td>45.5887  </td><td>-122.5980</td><td>  31     </td><td> 57860   </td><td> 57858   </td><td>  652    </td><td> 8       </td><td>13       </td><td>21       </td></tr>\n",
       "\t<tr><th scope=row>82</th><td>DFW      </td><td>32.8968  </td><td> -97.0380</td><td> 607     </td><td>281281   </td><td>281401   </td><td> 7272    </td><td>13       </td><td> 4       </td><td>17       </td></tr>\n",
       "\t<tr><th scope=row>158</th><td>LAX      </td><td>33.9425  </td><td>-118.4080</td><td> 125     </td><td>215608   </td><td>215685   </td><td> 2838    </td><td>11       </td><td> 4       </td><td>15       </td></tr>\n",
       "\t<tr><th scope=row>242</th><td>RNO      </td><td>39.4991  </td><td>-119.7680</td><td>4415     </td><td> 24286   </td><td> 24274   </td><td>  256    </td><td> 3       </td><td>11       </td><td>14       </td></tr>\n",
       "</tbody>\n",
       "</table>\n"
      ],
      "text/latex": [
       "\\begin{tabular}{r|llllllllll}\n",
       "  & iata\\_code & latitude\\_deg & longitude\\_deg & elevation\\_ft & NDepartures & NArrivals & Cancelled & dest\\_count & origin\\_count & total\\_delay\\_counts\\\\\n",
       "\\hline\n",
       "\t266 & SLC       & 40.7884   & -111.9780 & 4227      & 139086    & 139077    &  1090     & 14        & 41        & 55       \\\\\n",
       "\t156 & LAS       & 36.0801   & -115.1520 & 2181      & 172876    & 172871    &  2057     & 31        & 20        & 51       \\\\\n",
       "\t257 & SEA       & 47.4490   & -122.3090 &  433      & 109069    & 109075    &  1142     &  5        & 44        & 49       \\\\\n",
       "\t211 & ORD       & 41.9786   &  -87.9048 &  672      & 350380    & 350452    & 15050     & 14        & 31        & 45       \\\\\n",
       "\t81 & DEN       & 39.8617   & -104.6730 & 5431      & 241442    & 241470    &  2725     & 15        & 11        & 26       \\\\\n",
       "\t220 & PHX       & 33.4343   & -112.0120 & 1135      & 199408    & 199416    &  1875     & 15        &  9        & 24       \\\\\n",
       "\t217 & PDX       & 45.5887   & -122.5980 &   31      &  57860    &  57858    &   652     &  8        & 13        & 21       \\\\\n",
       "\t82 & DFW       & 32.8968   &  -97.0380 &  607      & 281281    & 281401    &  7272     & 13        &  4        & 17       \\\\\n",
       "\t158 & LAX       & 33.9425   & -118.4080 &  125      & 215608    & 215685    &  2838     & 11        &  4        & 15       \\\\\n",
       "\t242 & RNO       & 39.4991   & -119.7680 & 4415      &  24286    &  24274    &   256     &  3        & 11        & 14       \\\\\n",
       "\\end{tabular}\n"
      ],
      "text/markdown": [
       "\n",
       "| <!--/--> | iata_code | latitude_deg | longitude_deg | elevation_ft | NDepartures | NArrivals | Cancelled | dest_count | origin_count | total_delay_counts | \n",
       "|---|---|---|---|---|---|---|---|---|---|\n",
       "| 266 | SLC       | 40.7884   | -111.9780 | 4227      | 139086    | 139077    |  1090     | 14        | 41        | 55        | \n",
       "| 156 | LAS       | 36.0801   | -115.1520 | 2181      | 172876    | 172871    |  2057     | 31        | 20        | 51        | \n",
       "| 257 | SEA       | 47.4490   | -122.3090 |  433      | 109069    | 109075    |  1142     |  5        | 44        | 49        | \n",
       "| 211 | ORD       | 41.9786   |  -87.9048 |  672      | 350380    | 350452    | 15050     | 14        | 31        | 45        | \n",
       "| 81 | DEN       | 39.8617   | -104.6730 | 5431      | 241442    | 241470    |  2725     | 15        | 11        | 26        | \n",
       "| 220 | PHX       | 33.4343   | -112.0120 | 1135      | 199408    | 199416    |  1875     | 15        |  9        | 24        | \n",
       "| 217 | PDX       | 45.5887   | -122.5980 |   31      |  57860    |  57858    |   652     |  8        | 13        | 21        | \n",
       "| 82 | DFW       | 32.8968   |  -97.0380 |  607      | 281281    | 281401    |  7272     | 13        |  4        | 17        | \n",
       "| 158 | LAX       | 33.9425   | -118.4080 |  125      | 215608    | 215685    |  2838     | 11        |  4        | 15        | \n",
       "| 242 | RNO       | 39.4991   | -119.7680 | 4415      |  24286    |  24274    |   256     |  3        | 11        | 14        | \n",
       "\n",
       "\n"
      ],
      "text/plain": [
       "    iata_code latitude_deg longitude_deg elevation_ft NDepartures NArrivals\n",
       "266 SLC       40.7884      -111.9780     4227         139086      139077   \n",
       "156 LAS       36.0801      -115.1520     2181         172876      172871   \n",
       "257 SEA       47.4490      -122.3090      433         109069      109075   \n",
       "211 ORD       41.9786       -87.9048      672         350380      350452   \n",
       "81  DEN       39.8617      -104.6730     5431         241442      241470   \n",
       "220 PHX       33.4343      -112.0120     1135         199408      199416   \n",
       "217 PDX       45.5887      -122.5980       31          57860       57858   \n",
       "82  DFW       32.8968       -97.0380      607         281281      281401   \n",
       "158 LAX       33.9425      -118.4080      125         215608      215685   \n",
       "242 RNO       39.4991      -119.7680     4415          24286       24274   \n",
       "    Cancelled dest_count origin_count total_delay_counts\n",
       "266  1090     14         41           55                \n",
       "156  2057     31         20           51                \n",
       "257  1142      5         44           49                \n",
       "211 15050     14         31           45                \n",
       "81   2725     15         11           26                \n",
       "220  1875     15          9           24                \n",
       "217   652      8         13           21                \n",
       "82   7272     13          4           17                \n",
       "158  2838     11          4           15                \n",
       "242   256      3         11           14                "
      ]
     },
     "metadata": {},
     "output_type": "display_data"
    }
   ],
   "source": [
    "top_10"
   ]
  },
  {
   "cell_type": "code",
   "execution_count": 18,
   "metadata": {},
   "outputs": [],
   "source": [
    "collection <- c()\n",
    "i <- 1\n",
    "for(item in top_10$iata_code){\n",
    "    collection[i] <- mean(subset(NNA_wd, Dest==item|Origin==item)$WeatherDelay)\n",
    "    i <- i+1\n",
    "}\n",
    "top_10_mean_delay <- as.matrix(collection)\n",
    "top_10_mean_delay <- as.data.frame(top_10_mean_delay)\n",
    "colnames(top_10_mean_delay) <- \"mean_delay\"\n",
    "top_10 <- cbind(top_10, top_10_mean_delay)\n",
    "added_data <- top_10[,c(\"iata_code\",\"mean_delay\")]"
   ]
  },
  {
   "cell_type": "code",
   "execution_count": 19,
   "metadata": {},
   "outputs": [],
   "source": [
    "airports_plot <- merge(new_airports, added_data, by=\"iata_code\", all.x=T)"
   ]
  },
  {
   "cell_type": "code",
   "execution_count": 20,
   "metadata": {},
   "outputs": [],
   "source": [
    "airports_plot[is.na(airports_plot)] <- 0"
   ]
  },
  {
   "cell_type": "code",
   "execution_count": 21,
   "metadata": {},
   "outputs": [
    {
     "name": "stderr",
     "output_type": "stream",
     "text": [
      "Loading required package: sp\n",
      "### Welcome to rworldmap ###\n",
      "For a short introduction type : \t vignette('rworldmap')\n"
     ]
    },
    {
     "data": {
      "image/png": "[encoded data removed]",
      "text/plain": [
       "Plot with title \"Fig1: Weather Delay vs. Airports on Christmas\""
      ]
     },
     "metadata": {},
     "output_type": "display_data"
    }
   ],
   "source": [
    "# Map plot to visualize the delayed flight routes caused by extreme weather condition\n",
    "# The code size indicates the total number of weather-delayed flights associated with that airport, the larger the code size, \n",
    "# the more weather-delayed flights are related to the airport, therefore the more likely the delay is due to the \n",
    "# weather condition at that aiport \n",
    "# The circle size shows the amount of average weather delay experienced per flight at that airport. It can potentially indicate\n",
    "# how bad the weather could be at that airport. The worse the weather, the more average delay per flight might experience\n",
    "\n",
    "colfunc <- colorRampPalette(c(\"green\",\"red\"))\n",
    "library(rworldmap)\n",
    "newmap <- getMap(resolution = \"low\")\n",
    "plot(newmap,  ylim=c(21, 50), xlim=c(-125, -69),col = \"gray98\", asp=1.6)\n",
    "par(new=TRUE)\n",
    "\n",
    "plot(latitude_deg ~ longitude_deg, data = airports_plot,\n",
    "cex=sqrt(mean_delay)/1.2, ylim=c(21, 50), xlim=c(-125, -70), axes=FALSE, xlab=\"\", ylab=\"\", col=\"red\") \n",
    "\n",
    "title(\"Fig1: Weather Delay vs. Airports on Christmas\")\n",
    "\n",
    "\n",
    "\n",
    "legend(\"bottomleft\", legend=c(\"size: No. Average Delay Amount\"), pch=c(1), col=\"red\",cex=0.9)\n",
    "legend(\"bottomright\", legend=c(\"Code size: No. Total Delays\"), cex=0.9)\n",
    "\n",
    "\n",
    "with(subset(NNA_wd, WeatherDelay>15 & WeatherDelay<90), segments(longOrigin, latOrigin,\n",
    "longDest, latDest, col=\"green\", lwd=1.5))\n",
    "\n",
    "with(subset(NNA_wd, WeatherDelay>90), segments(longOrigin, latOrigin,\n",
    "longDest, latDest, col=\"pink\", lwd=2))\n",
    "\n",
    "\n",
    "text(latitude_deg ~ longitude_deg, label=iata_code, data = subset(airports_plot, total_delay_counts>0), \n",
    "     ylim=c(21, 50), xlim=c(-125, -65),cex=sqrt(total_delay_counts)/8, adj=1, col=\"blue\", font=2)\n",
    "\n",
    "legend(\"topright\", legend=c(\"Medium Delay (<90 mins)\", \"Severe Delay (>90 mins)\"),\n",
    "       col=c(\"green\", \"pink\"), lty=1, lwd=c(2,2), cex=0.7, box.lty=0)"
   ]
  },
  {
   "cell_type": "code",
   "execution_count": 22,
   "metadata": {},
   "outputs": [],
   "source": [
    "# The top 5 obvious airports with bad weather on Christmas day in 2008 are SLC, LAS, SEA, ORD and DEN\n",
    "# Salt Lake City is definitely the worst airport with the probability of having the worst weather on that day\n",
    "# since it has both the largest number of weather-delayed flights and the highest average delayed time per flight\n",
    "\n",
    "# However, this is a single analysis on a particular day... How about the overall condition for the entire month?\n",
    "# Is SLC still the worst?"
   ]
  },
  {
   "cell_type": "code",
   "execution_count": 27,
   "metadata": {},
   "outputs": [],
   "source": [
    "# Compute the weather dealyed frequency \n",
    "counts <- list()\n",
    "winter_day <- subset(air, Month==12)\n",
    "max_num <- max(winter_day$DayofMonth)\n",
    "for(day in seq(max_num)){\n",
    "    \n",
    "winter_day <- subset(air, Month==12)\n",
    "winter_day <- subset(winter_day, DayofMonth==day)\n",
    "\n",
    "\n",
    "NNA_wd <- winter_day[complete.cases(winter_day[ , 'WeatherDelay']),]\n",
    "NNA_wd <- subset(NNA_wd, WeatherDelay > 0)\n",
    "\n",
    "\n",
    "\n",
    "# Exploring dataset\n",
    "ori_name <- unique(NNA_wd$Origin)\n",
    "dest_name <- unique(NNA_wd$Dest)\n",
    "\n",
    "# Adding latitude and longitude information from the airport.R dataframe to our air dataframe\n",
    "listofdfs <- list()\n",
    "for(item in ori_name){\n",
    "    latOrigin <- subset(airports,iata_code==item)['latitude_deg'][1,]\n",
    "    longOrigin <- subset(airports,iata_code==item)['longitude_deg'][1,]\n",
    "    s <- subset(NNA_wd, Origin==item)\n",
    "    s$latOrigin <- latOrigin\n",
    "    s$longOrigin <- longOrigin\n",
    "    listofdfs[[item]] <- s\n",
    "}\n",
    "\n",
    "\n",
    "NNA_wd <- do.call(\"rbind\", listofdfs)\n",
    "\n",
    "listofdfs <- list()\n",
    "for(item in dest_name){\n",
    "    latDest <- subset(airports,iata_code==item)['latitude_deg'][1,]\n",
    "    longDest <- subset(airports,iata_code==item)['longitude_deg'][1,]\n",
    "    s <- subset(NNA_wd, Dest==item)\n",
    "    s$latDest <- latDest\n",
    "    s$longDest <- longDest\n",
    "    listofdfs[[item]] <- s\n",
    "}\n",
    "NNA_wd <- do.call(\"rbind\", listofdfs)\n",
    "\n",
    "dest_count <- as.data.frame(table(NNA_wd$Dest))\n",
    "origin_count <- as.data.frame(table(NNA_wd$Origin))\n",
    "\n",
    "total_count <- merge(dest_count, origin_count, by=\"Var1\")\n",
    "total_count$total <- total_count$Freq.x + total_count$Freq.y\n",
    "colnames(total_count) <- c(\"iata_code\",\"dest_count\",\"origin_count\",\"total_delay_counts\")\n",
    "\n",
    "new_airports <- merge(airports, total_count, by=\"iata_code\")\n",
    "top_5 <- head(new_airports[order(new_airports$total_delay_counts, decreasing = T),], 5)\n",
    "\n",
    "collection <- c()\n",
    "i <- 1\n",
    "for(item in top_5$iata_code){\n",
    "    collection[i] <- mean(subset(NNA_wd, Dest==item|Origin==item)$WeatherDelay)\n",
    "    i <- i+1\n",
    "}\n",
    "top_5_mean_delay <- as.matrix(collection)\n",
    "top_5_mean_delay <- as.data.frame(top_5_mean_delay)\n",
    "colnames(top_5_mean_delay) <- \"mean_delay\"\n",
    "top_5 <- cbind(top_5, top_5_mean_delay)\n",
    "added_data <- top_5[,c(\"iata_code\",\"mean_delay\")]\n",
    "\n",
    "airports_plot <- merge(new_airports, added_data, by=\"iata_code\", all.x=T)\n",
    "\n",
    "airports_plot[is.na(airports_plot)] <- 0\n",
    "\n",
    "counts[[day]] <- top_5$iata_code\n",
    "\n",
    "}"
   ]
  },
  {
   "cell_type": "code",
   "execution_count": 28,
   "metadata": {},
   "outputs": [
    {
     "data": {
      "image/png": "[encoded data removed]",
      "text/plain": [
       "Plot with title \"Fig2: Top 8 Weather-Delayed Airports in December?\""
      ]
     },
     "metadata": {},
     "output_type": "display_data"
    }
   ],
   "source": [
    "df <- counts[[1]]\n",
    "for(i in seq(2:31)){\n",
    "    df <- rbind(df, counts[[i]])\n",
    "}\n",
    "\n",
    "data <- table(df)\n",
    "colfunc <- colorRampPalette(c(\"purple\", \"violet\"))\n",
    "\n",
    "\n",
    "xx <- barplot(head(sort(data,decreasing = T),8), cex.names=1,\n",
    "       col=colfunc(8), ylab='Weather-Delay Frequency in December', xlab='Airport Code', ylim=c(0,31))\n",
    "\n",
    "values <- c(\"Chicago\",\"Atlanta\",\"Dallas\",\"Hebron\",\"Denver\",\"Detroit\",\"Newark\",\"Houston\")\n",
    "\n",
    "y <- head(sort(data,decreasing = T),8)\n",
    "\n",
    "text(xx, y+1.8, label = values, cex = 1, col = \"black\", srt=30)\n",
    "title('Fig2: Top 8 Weather-Delayed Airports in December?', cex = 1.5,   font.main= 2, line=-0.2)\n"
   ]
  },
  {
   "cell_type": "code",
   "execution_count": 29,
   "metadata": {},
   "outputs": [],
   "source": [
    "# After iterating the above analysis for every single day in December, I performed a summarization and plotted the top 8 \n",
    "# weather-delayed airports for the month. Clearly, ORD, ATL, and IAH are on average the top 3 common airports with weather delays \n",
    "# in December, which could suggest that for your next year's winter travel, they may not be among your top choice list \n",
    "# not only because there is a large chance for you to experience weather delay at the airports \n",
    "# but also you may be less likely to enjoy the weather in the city."
   ]
  }
 ],
 "metadata": {
  "kernelspec": {
   "display_name": "R",
   "language": "R",
   "name": "ir"
  },
  "language_info": {
   "codemirror_mode": "r",
   "file_extension": ".r",
   "mimetype": "text/x-r-source",
   "name": "R",
   "pygments_lexer": "r",
   "version": "3.4.3"
  }
 },
 "nbformat": 4,
 "nbformat_minor": 2
}
